{
 "cells": [
  {
   "cell_type": "markdown",
   "id": "93de610e-d418-41c8-b772-8b5114ceecd4",
   "metadata": {},
   "source": [
    "## Predicting Default Payment Credit Card Analysis\n",
    "\n",
    "Author: Quang Tuan (Finn) Pham \n",
    "\n",
    "Created Date: June 10th, 2024\n"
   ]
  },
  {
   "cell_type": "markdown",
   "id": "f426720e-a16b-4b92-a28e-eb4b93221351",
   "metadata": {},
   "source": [
    "### A. INTRODUCTION:\n",
    "\n",
    "* In this project, I am aiming to utilize different regression models to predict whether users will experience default payment in the next month using their account information and other personal factors such as age, gender and marriage status. To define what __default payment__ is, James Chen, through an article on Investopedia, states that the failure of borrowers to make required repayments on a debt for businesses or lenders in general. This issue may pose significant impacts credit card users as it may damage users' credit scores as well as their ability to borrow in the future.\n",
    "\n",
    "* The dataset used in this project was a collection of credit card users in Taiwan, collected by the Department of Information at Chung Hua University and the Department of Civil Engineering at Tangkam University in Taiwan.\n",
    "\n",
    "* Source for dataset: https://www.kaggle.com/datasets/uciml/default-of-credit-card-clients-dataset\n"
   ]
  },
  {
   "cell_type": "markdown",
   "id": "7ec4d689-62dc-482b-a47a-ce18e81cdd22",
   "metadata": {},
   "source": [
    "### B. METHODS:\n",
    "* In this section, I will be outlining the main components of my analysis:\n",
    "    - __Exploratory data analysis__: retrieving dataset as well as important information (through summary statistics and visualizations) on key features of the data.\n",
    "    - __Feature preprocessing__: performing scaling on features of our data (scaling, encoding, etc.) to ensure that our models will provide meaningful results.\n",
    "    - __Hyperparameter tuning__: Finding the optimal hyperparamters for each of our model. \n",
    "    - __Deployment__: Conclude on the best model to perform predicting on the testing data."
   ]
  },
  {
   "cell_type": "markdown",
   "id": "4db20718-cd30-4390-8bc3-04b2dc4e7f9d",
   "metadata": {},
   "source": [
    "### C. EXPLORATORY DATA ANALYSIS:\n",
    "* First, we begin by importing relevant libraries and dataset:"
   ]
  },
  {
   "cell_type": "code",
   "execution_count": 1,
   "id": "88b98e0a-6923-4b15-8414-adcac5e5f8a8",
   "metadata": {
    "tags": []
   },
   "outputs": [
    {
     "name": "stderr",
     "output_type": "stream",
     "text": [
      "C:\\Users\\Admin\\anaconda3\\Lib\\site-packages\\pandas\\core\\arrays\\masked.py:60: UserWarning: Pandas requires version '1.3.6' or newer of 'bottleneck' (version '1.3.5' currently installed).\n",
      "  from pandas.core import (\n"
     ]
    }
   ],
   "source": [
    "import os\n",
    "\n",
    "%matplotlib inline\n",
    "import string\n",
    "import sys\n",
    "\n",
    "import matplotlib.pyplot as plt\n",
    "import numpy as np\n",
    "import pandas as pd\n",
    "\n",
    "import os\n",
    "import re\n",
    "import sys\n",
    "from hashlib import sha1\n",
    "\n",
    "import matplotlib.pyplot as plt\n",
    "import numpy as np\n",
    "import pandas as pd\n",
    "import shap\n",
    "# import tests_hw5\n",
    "from imblearn.over_sampling import SMOTE\n",
    "from sklearn import datasets\n",
    "from sklearn.compose import make_column_transformer\n",
    "from sklearn.dummy import DummyClassifier, DummyRegressor\n",
    "from sklearn.ensemble import RandomForestClassifier, RandomForestRegressor\n",
    "from sklearn.linear_model import LogisticRegression, Ridge\n",
    "from sklearn.metrics import (\n",
    "    accuracy_score,\n",
    "    classification_report,\n",
    "    confusion_matrix,\n",
    "    f1_score,\n",
    "    make_scorer,\n",
    "    precision_score,\n",
    "    recall_score,\n",
    ")\n",
    "from sklearn.model_selection import (\n",
    "    GridSearchCV,\n",
    "    RandomizedSearchCV,\n",
    "    cross_val_score,\n",
    "    cross_validate,\n",
    "    train_test_split,\n",
    ")\n",
    "from sklearn.tree import DecisionTreeClassifier\n",
    "from sklearn.pipeline import Pipeline, make_pipeline\n",
    "from sklearn.preprocessing import OneHotEncoder, OrdinalEncoder, StandardScaler"
   ]
  },
  {
   "cell_type": "markdown",
   "id": "cf59ceb4-6bd7-4119-ac59-b2da2904fd0d",
   "metadata": {},
   "source": [
    "* Reading our dataset:"
   ]
  },
  {
   "cell_type": "code",
   "execution_count": 2,
   "id": "5b55967e-a719-4a94-8acc-805c4d3480ca",
   "metadata": {
    "tags": []
   },
   "outputs": [
    {
     "data": {
      "text/html": [
       "<div>\n",
       "<style scoped>\n",
       "    .dataframe tbody tr th:only-of-type {\n",
       "        vertical-align: middle;\n",
       "    }\n",
       "\n",
       "    .dataframe tbody tr th {\n",
       "        vertical-align: top;\n",
       "    }\n",
       "\n",
       "    .dataframe thead th {\n",
       "        text-align: right;\n",
       "    }\n",
       "</style>\n",
       "<table border=\"1\" class=\"dataframe\">\n",
       "  <thead>\n",
       "    <tr style=\"text-align: right;\">\n",
       "      <th></th>\n",
       "      <th>LIMIT_BAL</th>\n",
       "      <th>SEX</th>\n",
       "      <th>EDUCATION</th>\n",
       "      <th>MARRIAGE</th>\n",
       "      <th>AGE</th>\n",
       "      <th>PAY_0</th>\n",
       "      <th>PAY_2</th>\n",
       "      <th>PAY_3</th>\n",
       "      <th>PAY_4</th>\n",
       "      <th>PAY_5</th>\n",
       "      <th>...</th>\n",
       "      <th>BILL_AMT4</th>\n",
       "      <th>BILL_AMT5</th>\n",
       "      <th>BILL_AMT6</th>\n",
       "      <th>PAY_AMT1</th>\n",
       "      <th>PAY_AMT2</th>\n",
       "      <th>PAY_AMT3</th>\n",
       "      <th>PAY_AMT4</th>\n",
       "      <th>PAY_AMT5</th>\n",
       "      <th>PAY_AMT6</th>\n",
       "      <th>default.payment.next.month</th>\n",
       "    </tr>\n",
       "    <tr>\n",
       "      <th>ID</th>\n",
       "      <th></th>\n",
       "      <th></th>\n",
       "      <th></th>\n",
       "      <th></th>\n",
       "      <th></th>\n",
       "      <th></th>\n",
       "      <th></th>\n",
       "      <th></th>\n",
       "      <th></th>\n",
       "      <th></th>\n",
       "      <th></th>\n",
       "      <th></th>\n",
       "      <th></th>\n",
       "      <th></th>\n",
       "      <th></th>\n",
       "      <th></th>\n",
       "      <th></th>\n",
       "      <th></th>\n",
       "      <th></th>\n",
       "      <th></th>\n",
       "      <th></th>\n",
       "    </tr>\n",
       "  </thead>\n",
       "  <tbody>\n",
       "    <tr>\n",
       "      <th>1</th>\n",
       "      <td>20000.0</td>\n",
       "      <td>2</td>\n",
       "      <td>2</td>\n",
       "      <td>1</td>\n",
       "      <td>24</td>\n",
       "      <td>2</td>\n",
       "      <td>2</td>\n",
       "      <td>-1</td>\n",
       "      <td>-1</td>\n",
       "      <td>-2</td>\n",
       "      <td>...</td>\n",
       "      <td>0.0</td>\n",
       "      <td>0.0</td>\n",
       "      <td>0.0</td>\n",
       "      <td>0.0</td>\n",
       "      <td>689.0</td>\n",
       "      <td>0.0</td>\n",
       "      <td>0.0</td>\n",
       "      <td>0.0</td>\n",
       "      <td>0.0</td>\n",
       "      <td>1</td>\n",
       "    </tr>\n",
       "    <tr>\n",
       "      <th>2</th>\n",
       "      <td>120000.0</td>\n",
       "      <td>2</td>\n",
       "      <td>2</td>\n",
       "      <td>2</td>\n",
       "      <td>26</td>\n",
       "      <td>-1</td>\n",
       "      <td>2</td>\n",
       "      <td>0</td>\n",
       "      <td>0</td>\n",
       "      <td>0</td>\n",
       "      <td>...</td>\n",
       "      <td>3272.0</td>\n",
       "      <td>3455.0</td>\n",
       "      <td>3261.0</td>\n",
       "      <td>0.0</td>\n",
       "      <td>1000.0</td>\n",
       "      <td>1000.0</td>\n",
       "      <td>1000.0</td>\n",
       "      <td>0.0</td>\n",
       "      <td>2000.0</td>\n",
       "      <td>1</td>\n",
       "    </tr>\n",
       "    <tr>\n",
       "      <th>3</th>\n",
       "      <td>90000.0</td>\n",
       "      <td>2</td>\n",
       "      <td>2</td>\n",
       "      <td>2</td>\n",
       "      <td>34</td>\n",
       "      <td>0</td>\n",
       "      <td>0</td>\n",
       "      <td>0</td>\n",
       "      <td>0</td>\n",
       "      <td>0</td>\n",
       "      <td>...</td>\n",
       "      <td>14331.0</td>\n",
       "      <td>14948.0</td>\n",
       "      <td>15549.0</td>\n",
       "      <td>1518.0</td>\n",
       "      <td>1500.0</td>\n",
       "      <td>1000.0</td>\n",
       "      <td>1000.0</td>\n",
       "      <td>1000.0</td>\n",
       "      <td>5000.0</td>\n",
       "      <td>0</td>\n",
       "    </tr>\n",
       "    <tr>\n",
       "      <th>4</th>\n",
       "      <td>50000.0</td>\n",
       "      <td>2</td>\n",
       "      <td>2</td>\n",
       "      <td>1</td>\n",
       "      <td>37</td>\n",
       "      <td>0</td>\n",
       "      <td>0</td>\n",
       "      <td>0</td>\n",
       "      <td>0</td>\n",
       "      <td>0</td>\n",
       "      <td>...</td>\n",
       "      <td>28314.0</td>\n",
       "      <td>28959.0</td>\n",
       "      <td>29547.0</td>\n",
       "      <td>2000.0</td>\n",
       "      <td>2019.0</td>\n",
       "      <td>1200.0</td>\n",
       "      <td>1100.0</td>\n",
       "      <td>1069.0</td>\n",
       "      <td>1000.0</td>\n",
       "      <td>0</td>\n",
       "    </tr>\n",
       "    <tr>\n",
       "      <th>5</th>\n",
       "      <td>50000.0</td>\n",
       "      <td>1</td>\n",
       "      <td>2</td>\n",
       "      <td>1</td>\n",
       "      <td>57</td>\n",
       "      <td>-1</td>\n",
       "      <td>0</td>\n",
       "      <td>-1</td>\n",
       "      <td>0</td>\n",
       "      <td>0</td>\n",
       "      <td>...</td>\n",
       "      <td>20940.0</td>\n",
       "      <td>19146.0</td>\n",
       "      <td>19131.0</td>\n",
       "      <td>2000.0</td>\n",
       "      <td>36681.0</td>\n",
       "      <td>10000.0</td>\n",
       "      <td>9000.0</td>\n",
       "      <td>689.0</td>\n",
       "      <td>679.0</td>\n",
       "      <td>0</td>\n",
       "    </tr>\n",
       "  </tbody>\n",
       "</table>\n",
       "<p>5 rows × 24 columns</p>\n",
       "</div>"
      ],
      "text/plain": [
       "    LIMIT_BAL  SEX  EDUCATION  MARRIAGE  AGE  PAY_0  PAY_2  PAY_3  PAY_4  \\\n",
       "ID                                                                         \n",
       "1     20000.0    2          2         1   24      2      2     -1     -1   \n",
       "2    120000.0    2          2         2   26     -1      2      0      0   \n",
       "3     90000.0    2          2         2   34      0      0      0      0   \n",
       "4     50000.0    2          2         1   37      0      0      0      0   \n",
       "5     50000.0    1          2         1   57     -1      0     -1      0   \n",
       "\n",
       "    PAY_5  ...  BILL_AMT4  BILL_AMT5  BILL_AMT6  PAY_AMT1  PAY_AMT2  PAY_AMT3  \\\n",
       "ID         ...                                                                  \n",
       "1      -2  ...        0.0        0.0        0.0       0.0     689.0       0.0   \n",
       "2       0  ...     3272.0     3455.0     3261.0       0.0    1000.0    1000.0   \n",
       "3       0  ...    14331.0    14948.0    15549.0    1518.0    1500.0    1000.0   \n",
       "4       0  ...    28314.0    28959.0    29547.0    2000.0    2019.0    1200.0   \n",
       "5       0  ...    20940.0    19146.0    19131.0    2000.0   36681.0   10000.0   \n",
       "\n",
       "    PAY_AMT4  PAY_AMT5  PAY_AMT6  default.payment.next.month  \n",
       "ID                                                            \n",
       "1        0.0       0.0       0.0                           1  \n",
       "2     1000.0       0.0    2000.0                           1  \n",
       "3     1000.0    1000.0    5000.0                           0  \n",
       "4     1100.0    1069.0    1000.0                           0  \n",
       "5     9000.0     689.0     679.0                           0  \n",
       "\n",
       "[5 rows x 24 columns]"
      ]
     },
     "execution_count": 2,
     "metadata": {},
     "output_type": "execute_result"
    }
   ],
   "source": [
    "credit_df = pd.read_csv(\"https://raw.githubusercontent.com/tuanqpham/ml_classification_project/main/UCI_Credit_Card.csv\",\n",
    "                        index_col = 0)\n",
    "credit_df.head(5)"
   ]
  },
  {
   "cell_type": "code",
   "execution_count": 5,
   "id": "7ca870fa",
   "metadata": {},
   "outputs": [
    {
     "data": {
      "text/plain": [
       "(30000, 24)"
      ]
     },
     "execution_count": 5,
     "metadata": {},
     "output_type": "execute_result"
    }
   ],
   "source": [
    "credit_df.shape"
   ]
  },
  {
   "cell_type": "markdown",
   "id": "1dd33ac2-160a-4bdb-a106-df86b7684a94",
   "metadata": {},
   "source": [
    "* To avoid violations of the Golden Rule (not letting our testing data leak information into our analysis). I will be splitting the dataset into the training and testing set (with ratio 80/20 and `random_state = 123` to ensure reproducibility)"
   ]
  },
  {
   "cell_type": "code",
   "execution_count": 6,
   "id": "8bc57bb1-294e-4a25-94e6-ac2ed62ad654",
   "metadata": {
    "tags": []
   },
   "outputs": [
    {
     "data": {
      "text/html": [
       "<div>\n",
       "<style scoped>\n",
       "    .dataframe tbody tr th:only-of-type {\n",
       "        vertical-align: middle;\n",
       "    }\n",
       "\n",
       "    .dataframe tbody tr th {\n",
       "        vertical-align: top;\n",
       "    }\n",
       "\n",
       "    .dataframe thead th {\n",
       "        text-align: right;\n",
       "    }\n",
       "</style>\n",
       "<table border=\"1\" class=\"dataframe\">\n",
       "  <thead>\n",
       "    <tr style=\"text-align: right;\">\n",
       "      <th></th>\n",
       "      <th>LIMIT_BAL</th>\n",
       "      <th>SEX</th>\n",
       "      <th>EDUCATION</th>\n",
       "      <th>MARRIAGE</th>\n",
       "      <th>AGE</th>\n",
       "      <th>PAY_0</th>\n",
       "      <th>PAY_2</th>\n",
       "      <th>PAY_3</th>\n",
       "      <th>PAY_4</th>\n",
       "      <th>PAY_5</th>\n",
       "      <th>...</th>\n",
       "      <th>BILL_AMT4</th>\n",
       "      <th>BILL_AMT5</th>\n",
       "      <th>BILL_AMT6</th>\n",
       "      <th>PAY_AMT1</th>\n",
       "      <th>PAY_AMT2</th>\n",
       "      <th>PAY_AMT3</th>\n",
       "      <th>PAY_AMT4</th>\n",
       "      <th>PAY_AMT5</th>\n",
       "      <th>PAY_AMT6</th>\n",
       "      <th>default.payment.next.month</th>\n",
       "    </tr>\n",
       "    <tr>\n",
       "      <th>ID</th>\n",
       "      <th></th>\n",
       "      <th></th>\n",
       "      <th></th>\n",
       "      <th></th>\n",
       "      <th></th>\n",
       "      <th></th>\n",
       "      <th></th>\n",
       "      <th></th>\n",
       "      <th></th>\n",
       "      <th></th>\n",
       "      <th></th>\n",
       "      <th></th>\n",
       "      <th></th>\n",
       "      <th></th>\n",
       "      <th></th>\n",
       "      <th></th>\n",
       "      <th></th>\n",
       "      <th></th>\n",
       "      <th></th>\n",
       "      <th></th>\n",
       "      <th></th>\n",
       "    </tr>\n",
       "  </thead>\n",
       "  <tbody>\n",
       "    <tr>\n",
       "      <th>23834</th>\n",
       "      <td>80000.0</td>\n",
       "      <td>2</td>\n",
       "      <td>3</td>\n",
       "      <td>1</td>\n",
       "      <td>50</td>\n",
       "      <td>2</td>\n",
       "      <td>3</td>\n",
       "      <td>2</td>\n",
       "      <td>2</td>\n",
       "      <td>2</td>\n",
       "      <td>...</td>\n",
       "      <td>4247.0</td>\n",
       "      <td>3914.0</td>\n",
       "      <td>3242.0</td>\n",
       "      <td>0.0</td>\n",
       "      <td>0.0</td>\n",
       "      <td>2001.0</td>\n",
       "      <td>4.0</td>\n",
       "      <td>1073.0</td>\n",
       "      <td>23076.0</td>\n",
       "      <td>0</td>\n",
       "    </tr>\n",
       "    <tr>\n",
       "      <th>27013</th>\n",
       "      <td>500000.0</td>\n",
       "      <td>1</td>\n",
       "      <td>1</td>\n",
       "      <td>1</td>\n",
       "      <td>43</td>\n",
       "      <td>0</td>\n",
       "      <td>0</td>\n",
       "      <td>0</td>\n",
       "      <td>0</td>\n",
       "      <td>0</td>\n",
       "      <td>...</td>\n",
       "      <td>129863.0</td>\n",
       "      <td>120781.0</td>\n",
       "      <td>98163.0</td>\n",
       "      <td>4567.0</td>\n",
       "      <td>4787.0</td>\n",
       "      <td>4745.0</td>\n",
       "      <td>4256.0</td>\n",
       "      <td>3321.0</td>\n",
       "      <td>3326.0</td>\n",
       "      <td>0</td>\n",
       "    </tr>\n",
       "    <tr>\n",
       "      <th>12497</th>\n",
       "      <td>60000.0</td>\n",
       "      <td>2</td>\n",
       "      <td>1</td>\n",
       "      <td>2</td>\n",
       "      <td>31</td>\n",
       "      <td>0</td>\n",
       "      <td>-1</td>\n",
       "      <td>2</td>\n",
       "      <td>2</td>\n",
       "      <td>2</td>\n",
       "      <td>...</td>\n",
       "      <td>411.0</td>\n",
       "      <td>261.0</td>\n",
       "      <td>6695.0</td>\n",
       "      <td>900.0</td>\n",
       "      <td>0.0</td>\n",
       "      <td>300.0</td>\n",
       "      <td>0.0</td>\n",
       "      <td>6500.0</td>\n",
       "      <td>0.0</td>\n",
       "      <td>0</td>\n",
       "    </tr>\n",
       "    <tr>\n",
       "      <th>25520</th>\n",
       "      <td>280000.0</td>\n",
       "      <td>2</td>\n",
       "      <td>2</td>\n",
       "      <td>2</td>\n",
       "      <td>34</td>\n",
       "      <td>-1</td>\n",
       "      <td>-1</td>\n",
       "      <td>2</td>\n",
       "      <td>-1</td>\n",
       "      <td>-1</td>\n",
       "      <td>...</td>\n",
       "      <td>131200.0</td>\n",
       "      <td>3950.0</td>\n",
       "      <td>0.0</td>\n",
       "      <td>34163.0</td>\n",
       "      <td>0.0</td>\n",
       "      <td>131200.0</td>\n",
       "      <td>3950.0</td>\n",
       "      <td>0.0</td>\n",
       "      <td>716.0</td>\n",
       "      <td>0</td>\n",
       "    </tr>\n",
       "    <tr>\n",
       "      <th>18881</th>\n",
       "      <td>400000.0</td>\n",
       "      <td>2</td>\n",
       "      <td>1</td>\n",
       "      <td>2</td>\n",
       "      <td>30</td>\n",
       "      <td>-2</td>\n",
       "      <td>-2</td>\n",
       "      <td>-1</td>\n",
       "      <td>-1</td>\n",
       "      <td>0</td>\n",
       "      <td>...</td>\n",
       "      <td>21755.0</td>\n",
       "      <td>15258.0</td>\n",
       "      <td>16002.0</td>\n",
       "      <td>2668.0</td>\n",
       "      <td>3222.0</td>\n",
       "      <td>21755.0</td>\n",
       "      <td>500.0</td>\n",
       "      <td>1000.0</td>\n",
       "      <td>475.0</td>\n",
       "      <td>0</td>\n",
       "    </tr>\n",
       "  </tbody>\n",
       "</table>\n",
       "<p>5 rows × 24 columns</p>\n",
       "</div>"
      ],
      "text/plain": [
       "       LIMIT_BAL  SEX  EDUCATION  MARRIAGE  AGE  PAY_0  PAY_2  PAY_3  PAY_4  \\\n",
       "ID                                                                            \n",
       "23834    80000.0    2          3         1   50      2      3      2      2   \n",
       "27013   500000.0    1          1         1   43      0      0      0      0   \n",
       "12497    60000.0    2          1         2   31      0     -1      2      2   \n",
       "25520   280000.0    2          2         2   34     -1     -1      2     -1   \n",
       "18881   400000.0    2          1         2   30     -2     -2     -1     -1   \n",
       "\n",
       "       PAY_5  ...  BILL_AMT4  BILL_AMT5  BILL_AMT6  PAY_AMT1  PAY_AMT2  \\\n",
       "ID            ...                                                        \n",
       "23834      2  ...     4247.0     3914.0     3242.0       0.0       0.0   \n",
       "27013      0  ...   129863.0   120781.0    98163.0    4567.0    4787.0   \n",
       "12497      2  ...      411.0      261.0     6695.0     900.0       0.0   \n",
       "25520     -1  ...   131200.0     3950.0        0.0   34163.0       0.0   \n",
       "18881      0  ...    21755.0    15258.0    16002.0    2668.0    3222.0   \n",
       "\n",
       "       PAY_AMT3  PAY_AMT4  PAY_AMT5  PAY_AMT6  default.payment.next.month  \n",
       "ID                                                                         \n",
       "23834    2001.0       4.0    1073.0   23076.0                           0  \n",
       "27013    4745.0    4256.0    3321.0    3326.0                           0  \n",
       "12497     300.0       0.0    6500.0       0.0                           0  \n",
       "25520  131200.0    3950.0       0.0     716.0                           0  \n",
       "18881   21755.0     500.0    1000.0     475.0                           0  \n",
       "\n",
       "[5 rows x 24 columns]"
      ]
     },
     "execution_count": 6,
     "metadata": {},
     "output_type": "execute_result"
    }
   ],
   "source": [
    "train_df, test_df = train_test_split(credit_df, stratify = credit_df[\"default.payment.next.month\"],\n",
    "                                     test_size = 0.2, random_state = 123)\n",
    "\n",
    "train_df.head(5)\n"
   ]
  },
  {
   "cell_type": "markdown",
   "id": "6ddb07d4-d4c8-408c-a43c-c2f81fa15083",
   "metadata": {},
   "source": [
    "* Entering the core portion of this section: Exploratory Data Analysis. In this portion, I will only be focusing the training set only to obtain relevant descriptive statistics as well as producing visualizations."
   ]
  },
  {
   "cell_type": "code",
   "execution_count": 7,
   "id": "1c87054a-fd6f-4631-acff-0c829396b8b6",
   "metadata": {
    "tags": []
   },
   "outputs": [
    {
     "data": {
      "text/html": [
       "<div>\n",
       "<style scoped>\n",
       "    .dataframe tbody tr th:only-of-type {\n",
       "        vertical-align: middle;\n",
       "    }\n",
       "\n",
       "    .dataframe tbody tr th {\n",
       "        vertical-align: top;\n",
       "    }\n",
       "\n",
       "    .dataframe thead th {\n",
       "        text-align: right;\n",
       "    }\n",
       "</style>\n",
       "<table border=\"1\" class=\"dataframe\">\n",
       "  <thead>\n",
       "    <tr style=\"text-align: right;\">\n",
       "      <th></th>\n",
       "      <th>LIMIT_BAL</th>\n",
       "      <th>SEX</th>\n",
       "      <th>EDUCATION</th>\n",
       "      <th>MARRIAGE</th>\n",
       "      <th>AGE</th>\n",
       "      <th>PAY_0</th>\n",
       "      <th>PAY_2</th>\n",
       "      <th>PAY_3</th>\n",
       "      <th>PAY_4</th>\n",
       "      <th>PAY_5</th>\n",
       "      <th>...</th>\n",
       "      <th>BILL_AMT4</th>\n",
       "      <th>BILL_AMT5</th>\n",
       "      <th>BILL_AMT6</th>\n",
       "      <th>PAY_AMT1</th>\n",
       "      <th>PAY_AMT2</th>\n",
       "      <th>PAY_AMT3</th>\n",
       "      <th>PAY_AMT4</th>\n",
       "      <th>PAY_AMT5</th>\n",
       "      <th>PAY_AMT6</th>\n",
       "      <th>default.payment.next.month</th>\n",
       "    </tr>\n",
       "  </thead>\n",
       "  <tbody>\n",
       "    <tr>\n",
       "      <th>count</th>\n",
       "      <td>24000.000000</td>\n",
       "      <td>24000.000000</td>\n",
       "      <td>24000.000000</td>\n",
       "      <td>24000.000000</td>\n",
       "      <td>24000.000000</td>\n",
       "      <td>24000.000000</td>\n",
       "      <td>24000.000000</td>\n",
       "      <td>24000.000000</td>\n",
       "      <td>24000.000000</td>\n",
       "      <td>24000.000000</td>\n",
       "      <td>...</td>\n",
       "      <td>24000.000000</td>\n",
       "      <td>24000.000000</td>\n",
       "      <td>24000.000000</td>\n",
       "      <td>24000.000000</td>\n",
       "      <td>2.400000e+04</td>\n",
       "      <td>24000.000000</td>\n",
       "      <td>24000.000000</td>\n",
       "      <td>24000.000000</td>\n",
       "      <td>24000.000000</td>\n",
       "      <td>24000.000000</td>\n",
       "    </tr>\n",
       "    <tr>\n",
       "      <th>mean</th>\n",
       "      <td>167540.570000</td>\n",
       "      <td>1.602458</td>\n",
       "      <td>1.854958</td>\n",
       "      <td>1.550958</td>\n",
       "      <td>35.488708</td>\n",
       "      <td>-0.014917</td>\n",
       "      <td>-0.128917</td>\n",
       "      <td>-0.164625</td>\n",
       "      <td>-0.216750</td>\n",
       "      <td>-0.260375</td>\n",
       "      <td>...</td>\n",
       "      <td>43523.790583</td>\n",
       "      <td>40637.865917</td>\n",
       "      <td>39066.362042</td>\n",
       "      <td>5634.156792</td>\n",
       "      <td>5.945949e+03</td>\n",
       "      <td>5271.342292</td>\n",
       "      <td>4870.824917</td>\n",
       "      <td>4719.293250</td>\n",
       "      <td>5149.885625</td>\n",
       "      <td>0.221208</td>\n",
       "    </tr>\n",
       "    <tr>\n",
       "      <th>std</th>\n",
       "      <td>130048.776196</td>\n",
       "      <td>0.489400</td>\n",
       "      <td>0.788689</td>\n",
       "      <td>0.522970</td>\n",
       "      <td>9.232362</td>\n",
       "      <td>1.130006</td>\n",
       "      <td>1.202785</td>\n",
       "      <td>1.201839</td>\n",
       "      <td>1.176787</td>\n",
       "      <td>1.140344</td>\n",
       "      <td>...</td>\n",
       "      <td>64666.660209</td>\n",
       "      <td>61315.330765</td>\n",
       "      <td>60009.737947</td>\n",
       "      <td>16206.417364</td>\n",
       "      <td>2.419414e+04</td>\n",
       "      <td>18175.286987</td>\n",
       "      <td>16181.754055</td>\n",
       "      <td>14646.244363</td>\n",
       "      <td>17536.082739</td>\n",
       "      <td>0.415069</td>\n",
       "    </tr>\n",
       "    <tr>\n",
       "      <th>min</th>\n",
       "      <td>10000.000000</td>\n",
       "      <td>1.000000</td>\n",
       "      <td>0.000000</td>\n",
       "      <td>0.000000</td>\n",
       "      <td>21.000000</td>\n",
       "      <td>-2.000000</td>\n",
       "      <td>-2.000000</td>\n",
       "      <td>-2.000000</td>\n",
       "      <td>-2.000000</td>\n",
       "      <td>-2.000000</td>\n",
       "      <td>...</td>\n",
       "      <td>-170000.000000</td>\n",
       "      <td>-28335.000000</td>\n",
       "      <td>-339603.000000</td>\n",
       "      <td>0.000000</td>\n",
       "      <td>0.000000e+00</td>\n",
       "      <td>0.000000</td>\n",
       "      <td>0.000000</td>\n",
       "      <td>0.000000</td>\n",
       "      <td>0.000000</td>\n",
       "      <td>0.000000</td>\n",
       "    </tr>\n",
       "    <tr>\n",
       "      <th>25%</th>\n",
       "      <td>50000.000000</td>\n",
       "      <td>1.000000</td>\n",
       "      <td>1.000000</td>\n",
       "      <td>1.000000</td>\n",
       "      <td>28.000000</td>\n",
       "      <td>-1.000000</td>\n",
       "      <td>-1.000000</td>\n",
       "      <td>-1.000000</td>\n",
       "      <td>-1.000000</td>\n",
       "      <td>-1.000000</td>\n",
       "      <td>...</td>\n",
       "      <td>2328.250000</td>\n",
       "      <td>1789.250000</td>\n",
       "      <td>1287.000000</td>\n",
       "      <td>1000.000000</td>\n",
       "      <td>8.500000e+02</td>\n",
       "      <td>390.000000</td>\n",
       "      <td>299.000000</td>\n",
       "      <td>257.750000</td>\n",
       "      <td>114.750000</td>\n",
       "      <td>0.000000</td>\n",
       "    </tr>\n",
       "    <tr>\n",
       "      <th>50%</th>\n",
       "      <td>140000.000000</td>\n",
       "      <td>2.000000</td>\n",
       "      <td>2.000000</td>\n",
       "      <td>2.000000</td>\n",
       "      <td>34.000000</td>\n",
       "      <td>0.000000</td>\n",
       "      <td>0.000000</td>\n",
       "      <td>0.000000</td>\n",
       "      <td>0.000000</td>\n",
       "      <td>0.000000</td>\n",
       "      <td>...</td>\n",
       "      <td>19088.000000</td>\n",
       "      <td>18167.500000</td>\n",
       "      <td>17134.000000</td>\n",
       "      <td>2100.500000</td>\n",
       "      <td>2.011000e+03</td>\n",
       "      <td>1800.000000</td>\n",
       "      <td>1500.000000</td>\n",
       "      <td>1500.000000</td>\n",
       "      <td>1500.000000</td>\n",
       "      <td>0.000000</td>\n",
       "    </tr>\n",
       "    <tr>\n",
       "      <th>75%</th>\n",
       "      <td>240000.000000</td>\n",
       "      <td>2.000000</td>\n",
       "      <td>2.000000</td>\n",
       "      <td>2.000000</td>\n",
       "      <td>41.000000</td>\n",
       "      <td>0.000000</td>\n",
       "      <td>0.000000</td>\n",
       "      <td>0.000000</td>\n",
       "      <td>0.000000</td>\n",
       "      <td>0.000000</td>\n",
       "      <td>...</td>\n",
       "      <td>55133.500000</td>\n",
       "      <td>50540.000000</td>\n",
       "      <td>49469.250000</td>\n",
       "      <td>5007.000000</td>\n",
       "      <td>5.000000e+03</td>\n",
       "      <td>4510.500000</td>\n",
       "      <td>4001.000000</td>\n",
       "      <td>4006.000000</td>\n",
       "      <td>4000.000000</td>\n",
       "      <td>0.000000</td>\n",
       "    </tr>\n",
       "    <tr>\n",
       "      <th>max</th>\n",
       "      <td>1000000.000000</td>\n",
       "      <td>2.000000</td>\n",
       "      <td>6.000000</td>\n",
       "      <td>3.000000</td>\n",
       "      <td>79.000000</td>\n",
       "      <td>8.000000</td>\n",
       "      <td>8.000000</td>\n",
       "      <td>8.000000</td>\n",
       "      <td>8.000000</td>\n",
       "      <td>8.000000</td>\n",
       "      <td>...</td>\n",
       "      <td>891586.000000</td>\n",
       "      <td>927171.000000</td>\n",
       "      <td>961664.000000</td>\n",
       "      <td>873552.000000</td>\n",
       "      <td>1.684259e+06</td>\n",
       "      <td>896040.000000</td>\n",
       "      <td>621000.000000</td>\n",
       "      <td>426529.000000</td>\n",
       "      <td>528666.000000</td>\n",
       "      <td>1.000000</td>\n",
       "    </tr>\n",
       "  </tbody>\n",
       "</table>\n",
       "<p>8 rows × 24 columns</p>\n",
       "</div>"
      ],
      "text/plain": [
       "            LIMIT_BAL           SEX     EDUCATION      MARRIAGE           AGE  \\\n",
       "count    24000.000000  24000.000000  24000.000000  24000.000000  24000.000000   \n",
       "mean    167540.570000      1.602458      1.854958      1.550958     35.488708   \n",
       "std     130048.776196      0.489400      0.788689      0.522970      9.232362   \n",
       "min      10000.000000      1.000000      0.000000      0.000000     21.000000   \n",
       "25%      50000.000000      1.000000      1.000000      1.000000     28.000000   \n",
       "50%     140000.000000      2.000000      2.000000      2.000000     34.000000   \n",
       "75%     240000.000000      2.000000      2.000000      2.000000     41.000000   \n",
       "max    1000000.000000      2.000000      6.000000      3.000000     79.000000   \n",
       "\n",
       "              PAY_0         PAY_2         PAY_3         PAY_4         PAY_5  \\\n",
       "count  24000.000000  24000.000000  24000.000000  24000.000000  24000.000000   \n",
       "mean      -0.014917     -0.128917     -0.164625     -0.216750     -0.260375   \n",
       "std        1.130006      1.202785      1.201839      1.176787      1.140344   \n",
       "min       -2.000000     -2.000000     -2.000000     -2.000000     -2.000000   \n",
       "25%       -1.000000     -1.000000     -1.000000     -1.000000     -1.000000   \n",
       "50%        0.000000      0.000000      0.000000      0.000000      0.000000   \n",
       "75%        0.000000      0.000000      0.000000      0.000000      0.000000   \n",
       "max        8.000000      8.000000      8.000000      8.000000      8.000000   \n",
       "\n",
       "       ...      BILL_AMT4      BILL_AMT5      BILL_AMT6       PAY_AMT1  \\\n",
       "count  ...   24000.000000   24000.000000   24000.000000   24000.000000   \n",
       "mean   ...   43523.790583   40637.865917   39066.362042    5634.156792   \n",
       "std    ...   64666.660209   61315.330765   60009.737947   16206.417364   \n",
       "min    ... -170000.000000  -28335.000000 -339603.000000       0.000000   \n",
       "25%    ...    2328.250000    1789.250000    1287.000000    1000.000000   \n",
       "50%    ...   19088.000000   18167.500000   17134.000000    2100.500000   \n",
       "75%    ...   55133.500000   50540.000000   49469.250000    5007.000000   \n",
       "max    ...  891586.000000  927171.000000  961664.000000  873552.000000   \n",
       "\n",
       "           PAY_AMT2       PAY_AMT3       PAY_AMT4       PAY_AMT5  \\\n",
       "count  2.400000e+04   24000.000000   24000.000000   24000.000000   \n",
       "mean   5.945949e+03    5271.342292    4870.824917    4719.293250   \n",
       "std    2.419414e+04   18175.286987   16181.754055   14646.244363   \n",
       "min    0.000000e+00       0.000000       0.000000       0.000000   \n",
       "25%    8.500000e+02     390.000000     299.000000     257.750000   \n",
       "50%    2.011000e+03    1800.000000    1500.000000    1500.000000   \n",
       "75%    5.000000e+03    4510.500000    4001.000000    4006.000000   \n",
       "max    1.684259e+06  896040.000000  621000.000000  426529.000000   \n",
       "\n",
       "            PAY_AMT6  default.payment.next.month  \n",
       "count   24000.000000                24000.000000  \n",
       "mean     5149.885625                    0.221208  \n",
       "std     17536.082739                    0.415069  \n",
       "min         0.000000                    0.000000  \n",
       "25%       114.750000                    0.000000  \n",
       "50%      1500.000000                    0.000000  \n",
       "75%      4000.000000                    0.000000  \n",
       "max    528666.000000                    1.000000  \n",
       "\n",
       "[8 rows x 24 columns]"
      ]
     },
     "execution_count": 7,
     "metadata": {},
     "output_type": "execute_result"
    }
   ],
   "source": [
    "train_df_summary = train_df.describe(include = 'all')\n",
    "train_df_summary"
   ]
  },
  {
   "cell_type": "markdown",
   "id": "7429be7e-1833-475b-9292-932daac02fff",
   "metadata": {},
   "source": [
    "- From the above summary table, I notice an interesting distribution on the feature `AGE` while this variable ranges from 21 to 79, the mean age and median age was only about 34 or 35, suggesting that the demographic for this dataset is quite young."
   ]
  },
  {
   "cell_type": "code",
   "execution_count": 17,
   "id": "1b8fd14f-636f-49f3-8cf2-14cf71266098",
   "metadata": {
    "tags": []
   },
   "outputs": [
    {
     "data": {
      "image/png": "[encoded data removed]",
      "text/plain": [
       "<Figure size 1000x400 with 1 Axes>"
      ]
     },
     "metadata": {},
     "output_type": "display_data"
    }
   ],
   "source": [
    "# Visualizing age distribution:\n",
    "plt.figure(figsize = (10, 4))\n",
    "plt.rcParams['font.size'] = 8\n",
    "\n",
    "ax = train_df.groupby(\"default.payment.next.month\")[\"AGE\"].plot.hist(bins=50, alpha=0.5, legend=True)\n",
    "plt.xlabel(\"Age\")\n",
    "plt.title(\"Age Distribution by Default Class\")\n",
    "plt.legend([\"Non-Default Payment\", \"Default Payment\"], title = \"Next Month Payment Status\")\n",
    "plt.show()"
   ]
  },
  {
   "cell_type": "code",
   "execution_count": 9,
   "id": "8ace7e16",
   "metadata": {},
   "outputs": [
    {
     "data": {
      "text/html": [
       "<div>\n",
       "<style scoped>\n",
       "    .dataframe tbody tr th:only-of-type {\n",
       "        vertical-align: middle;\n",
       "    }\n",
       "\n",
       "    .dataframe tbody tr th {\n",
       "        vertical-align: top;\n",
       "    }\n",
       "\n",
       "    .dataframe thead th {\n",
       "        text-align: right;\n",
       "    }\n",
       "</style>\n",
       "<table border=\"1\" class=\"dataframe\">\n",
       "  <thead>\n",
       "    <tr style=\"text-align: right;\">\n",
       "      <th></th>\n",
       "      <th>default.payment.next.month</th>\n",
       "      <th>Count</th>\n",
       "    </tr>\n",
       "  </thead>\n",
       "  <tbody>\n",
       "    <tr>\n",
       "      <th>0</th>\n",
       "      <td>0</td>\n",
       "      <td>18691</td>\n",
       "    </tr>\n",
       "    <tr>\n",
       "      <th>1</th>\n",
       "      <td>1</td>\n",
       "      <td>5309</td>\n",
       "    </tr>\n",
       "  </tbody>\n",
       "</table>\n",
       "</div>"
      ],
      "text/plain": [
       "   default.payment.next.month  Count\n",
       "0                           0  18691\n",
       "1                           1   5309"
      ]
     },
     "execution_count": 9,
     "metadata": {},
     "output_type": "execute_result"
    }
   ],
   "source": [
    "summary = train_df.groupby([\"default.payment.next.month\"])[\"AGE\"].count().to_frame().rename(columns = {\"AGE\": \"Count\"}).reset_index()\n",
    "#summary['default.payment.next.month'].replace([0, 'Non-Default'], [1, 'Default'], inplace = True)\n",
    "summary"
   ]
  },
  {
   "cell_type": "markdown",
   "id": "16fec17d-2671-401f-8a32-b8827a0f0332",
   "metadata": {},
   "source": [
    "The age distribution for both groups appear to vary slightly. For users who does not have default payment on their card, most examples were in the 30s or 40s. This trend was different for the default payment group as the frequency remains quite stable for ages 20 to 40 then begins to slightly decrease."
   ]
  },
  {
   "cell_type": "markdown",
   "id": "4e823fa8-2e7d-4e99-b8ba-5f1c46d2de4e",
   "metadata": {},
   "source": [
    "* Next, I aim to examine clients' repayment status in September, 2005 as this was the last month before data was recorded.\n",
    "     - For references on explanation of variables: https://www.kaggle.com/datasets/uciml/default-of-credit-card-clients-dataset/discussion/34608"
   ]
  },
  {
   "cell_type": "code",
   "execution_count": 16,
   "id": "acd6f559-7598-4fef-90b7-7a6c05034af6",
   "metadata": {
    "tags": []
   },
   "outputs": [
    {
     "data": {
      "image/png": "[encoded data removed]",
      "text/plain": [
       "<Figure size 1000x400 with 1 Axes>"
      ]
     },
     "metadata": {},
     "output_type": "display_data"
    }
   ],
   "source": [
    "pay_0_summary = train_df.groupby([\"default.payment.next.month\", \"PAY_0\"])[\"AGE\"].count().to_frame().reset_index().rename(columns = {\"AGE\": \"Count\"})\n",
    "\n",
    "plt.figure(figsize = (10, 4))\n",
    "plt.rcParams['font.size'] = 8\n",
    "\n",
    "categories = np.unique(pay_0_summary[\"PAY_0\"])\n",
    "v1 = pay_0_summary[pay_0_summary[\"default.payment.next.month\"] == 1][\"Count\"]\n",
    "v2 = pay_0_summary[pay_0_summary[\"default.payment.next.month\"] == 0][\"Count\"]\n",
    "w, x = 0.4, np.arange(len(categories))\n",
    "\n",
    "ax1 = plt.bar(x - w/2, v2, w, label='Non-Default Status')\n",
    "plt.bar_label(ax1 , padding = 3)\n",
    "ax2 = plt.bar(x + w/2, v1, w, label='Default Status')\n",
    "plt.bar_label(ax2 , padding = 3)\n",
    "\n",
    "plt.xticks(x, categories)\n",
    "plt.xlabel('Payment Status in September')\n",
    "plt.ylabel('Values')\n",
    "plt.title('Payment Status in September by Default Cases')\n",
    "\n",
    "plt.tight_layout()\n",
    "plt.legend()\n",
    "plt.show()"
   ]
  },
  {
   "cell_type": "markdown",
   "id": "7983d7ad-5d8a-4dfc-bf1d-ca885b7206de",
   "metadata": {},
   "source": [
    "__It can be seen that most clients have default payment on their credit cards have delayed their payments for more than two months__"
   ]
  },
  {
   "cell_type": "markdown",
   "id": "88f9590e-4e18-45fd-b298-df20baf19bf0",
   "metadata": {},
   "source": [
    "### D. PREPROCESSING AND TRANSFORMATION:\n",
    "\n",
    "* In the dataset, there were different types of variables: numeric, categorical, ordinal. Therefore, I intend to apply different types of transforming techniques such as: scaling for numeric, one-hot encoding for categorical and binary.\n",
    "\n",
    "* First, I will be checking if the dataset has any missing values as this may determines whether we might need imputation."
   ]
  },
  {
   "cell_type": "code",
   "execution_count": 18,
   "id": "123b0567-5521-49b0-8334-e9a24b05156d",
   "metadata": {
    "tags": []
   },
   "outputs": [
    {
     "name": "stdout",
     "output_type": "stream",
     "text": [
      "LIMIT_BAL                     False\n",
      "SEX                           False\n",
      "EDUCATION                     False\n",
      "MARRIAGE                      False\n",
      "AGE                           False\n",
      "PAY_0                         False\n",
      "PAY_2                         False\n",
      "PAY_3                         False\n",
      "PAY_4                         False\n",
      "PAY_5                         False\n",
      "PAY_6                         False\n",
      "BILL_AMT1                     False\n",
      "BILL_AMT2                     False\n",
      "BILL_AMT3                     False\n",
      "BILL_AMT4                     False\n",
      "BILL_AMT5                     False\n",
      "BILL_AMT6                     False\n",
      "PAY_AMT1                      False\n",
      "PAY_AMT2                      False\n",
      "PAY_AMT3                      False\n",
      "PAY_AMT4                      False\n",
      "PAY_AMT5                      False\n",
      "PAY_AMT6                      False\n",
      "default.payment.next.month    False\n",
      "dtype: bool\n"
     ]
    }
   ],
   "source": [
    "print(train_df.isnull().any())"
   ]
  },
  {
   "cell_type": "markdown",
   "id": "2230f750-e2f8-46c7-b56c-2223b9b80b0d",
   "metadata": {},
   "source": [
    "* Since we have no missing values, no imputation is necessary."
   ]
  },
  {
   "cell_type": "code",
   "execution_count": 19,
   "id": "7eb49e2b-1e02-45db-af51-ca3ee5075678",
   "metadata": {
    "tags": []
   },
   "outputs": [],
   "source": [
    "## Identifying types of features and initiating types of transformers\n",
    "categorical_features = [\"EDUCATION\", \"MARRIAGE\", \"PAY_0\", \"PAY_2\", \"PAY_3\", \"PAY_4\", \"PAY_5\", \"PAY_6\"]\n",
    "numeric_features = [\"LIMIT_BAL\", \"BILL_AMT1\", \"BILL_AMT2\",\"BILL_AMT3\", \"BILL_AMT4\", \"BILL_AMT5\", \"BILL_AMT6\",\n",
    "                    \"PAY_AMT1\", \"PAY_AMT2\", \"PAY_AMT3\", \"PAY_AMT4\", \"PAY_AMT5\", \"PAY_AMT6\"]\n",
    "binary_features = [\"SEX\"]\n",
    "feature_names  = categorical_features + numeric_features + binary_features \n",
    "target = \"default.payment.next.month\"\n",
    "\n",
    "ohe = OneHotEncoder(handle_unknown = \"ignore\")\n",
    "\n",
    "scaler = StandardScaler()\n",
    "\n",
    "ohe_binary = OneHotEncoder(drop = \"if_binary\")"
   ]
  },
  {
   "cell_type": "code",
   "execution_count": 20,
   "id": "31f22999-f39d-4b2a-85e3-987126b8ad66",
   "metadata": {
    "tags": []
   },
   "outputs": [],
   "source": [
    "## Defining column transformer\n",
    "preprocessor = make_column_transformer(\n",
    "    (scaler, numeric_features),\n",
    "    (ohe, categorical_features),\n",
    "    (ohe_binary, binary_features)\n",
    ")"
   ]
  },
  {
   "cell_type": "code",
   "execution_count": 21,
   "id": "523fb862-7680-4d03-9b84-0dec2d4bd6c5",
   "metadata": {
    "tags": []
   },
   "outputs": [],
   "source": [
    "## Splitting into features and targets:\n",
    "\n",
    "X_train = train_df.drop(columns = target)\n",
    "y_train = train_df[target]\n",
    "X_test = test_df.drop(columns = target)\n",
    "y_test = test_df[target]"
   ]
  },
  {
   "cell_type": "code",
   "execution_count": 22,
   "id": "0b9fa4bb",
   "metadata": {},
   "outputs": [
    {
     "data": {
      "text/plain": [
       "<bound method ColumnTransformer.get_feature_names_out of ColumnTransformer(transformers=[('standardscaler', StandardScaler(),\n",
       "                                 ['LIMIT_BAL', 'BILL_AMT1', 'BILL_AMT2',\n",
       "                                  'BILL_AMT3', 'BILL_AMT4', 'BILL_AMT5',\n",
       "                                  'BILL_AMT6', 'PAY_AMT1', 'PAY_AMT2',\n",
       "                                  'PAY_AMT3', 'PAY_AMT4', 'PAY_AMT5',\n",
       "                                  'PAY_AMT6']),\n",
       "                                ('onehotencoder-1',\n",
       "                                 OneHotEncoder(handle_unknown='ignore'),\n",
       "                                 ['EDUCATION', 'MARRIAGE', 'PAY_0', 'PAY_2',\n",
       "                                  'PAY_3', 'PAY_4', 'PAY_5', 'PAY_6']),\n",
       "                                ('onehotencoder-2',\n",
       "                                 OneHotEncoder(drop='if_binary'), ['SEX'])])>"
      ]
     },
     "execution_count": 22,
     "metadata": {},
     "output_type": "execute_result"
    }
   ],
   "source": [
    "preprocessor.fit(X_train)\n",
    "preprocessor.get_feature_names_out"
   ]
  },
  {
   "cell_type": "code",
   "execution_count": 23,
   "id": "0676f989-8ef1-4879-bd64-e6302689c759",
   "metadata": {
    "tags": []
   },
   "outputs": [],
   "source": [
    "transformed_df = pd.DataFrame(preprocessor.fit_transform(X_train))"
   ]
  },
  {
   "cell_type": "markdown",
   "id": "663d6121-ab8c-47b5-b459-1d2205fea10e",
   "metadata": {},
   "source": [
    "### E. Training models and hyperparameter tuning:"
   ]
  },
  {
   "cell_type": "markdown",
   "id": "9666400e-f754-48b9-a8b6-82622f80f665",
   "metadata": {},
   "source": [
    "* To begin this section, I would start with the baseline model in our prediction task. Further, to ensure that our training data go through the preprocessor defined above, I have also created a pipeline."
   ]
  },
  {
   "cell_type": "code",
   "execution_count": 24,
   "id": "a7d2c960-c210-4431-abb9-cdad89c7cba9",
   "metadata": {
    "tags": []
   },
   "outputs": [],
   "source": [
    "results_dict = {}"
   ]
  },
  {
   "cell_type": "code",
   "execution_count": 25,
   "id": "85c1eca4-3ba4-420d-a01c-745523630cdd",
   "metadata": {
    "tags": []
   },
   "outputs": [],
   "source": [
    "## Adapted from the CPSC 330: Applied Machine Learning course at the University of British Columbia for results summarizing purposes:\n",
    "def mean_std_cross_val_scores(model, X_train, y_train, **kwargs):\n",
    "    \"\"\"\n",
    "    Returns mean and std of cross validation\n",
    "\n",
    "    Parameters\n",
    "    ----------\n",
    "    model :\n",
    "        scikit-learn model\n",
    "    X_train : numpy array or pandas DataFrame\n",
    "        X in the training data\n",
    "    y_train :\n",
    "        y in the training data\n",
    "\n",
    "    Returns\n",
    "    ----------\n",
    "        pandas Series with mean scores from cross_validation\n",
    "    \"\"\"\n",
    "\n",
    "    scores = cross_validate(model, X_train, y_train, **kwargs)\n",
    "\n",
    "    mean_scores = pd.DataFrame(scores).mean()\n",
    "    std_scores = pd.DataFrame(scores).std()\n",
    "    out_col = []\n",
    "\n",
    "    for i in range(len(mean_scores)):\n",
    "        out_col.append((f\"%0.3f (+/- %0.3f)\" % (mean_scores[i], std_scores[i])))\n",
    "\n",
    "    return pd.Series(data=out_col, index=mean_scores.index)\n"
   ]
  },
  {
   "cell_type": "code",
   "execution_count": 26,
   "id": "2d2cb24c-8497-49b1-bfe2-8e4e3b5f182b",
   "metadata": {
    "tags": []
   },
   "outputs": [
    {
     "name": "stderr",
     "output_type": "stream",
     "text": [
      "C:\\Users\\Admin\\AppData\\Local\\Temp\\ipykernel_16828\\2577086146.py:27: FutureWarning: Series.__getitem__ treating keys as positions is deprecated. In a future version, integer keys will always be treated as labels (consistent with DataFrame behavior). To access a value by position, use `ser.iloc[pos]`\n",
      "  out_col.append((f\"%0.3f (+/- %0.3f)\" % (mean_scores[i], std_scores[i])))\n"
     ]
    }
   ],
   "source": [
    "dummy = DummyClassifier(random_state = 42)\n",
    "dummy_pipe = make_pipeline(preprocessor, dummy)\n",
    "\n",
    "results_dict[\"Dummy Classifier\"] = mean_std_cross_val_scores(dummy_pipe, X_train, y_train, \n",
    "                                                             cv = 5, return_train_score = True)\n"
   ]
  },
  {
   "cell_type": "code",
   "execution_count": 27,
   "id": "41139eec-4d1f-4c50-9513-974b8ddb2b29",
   "metadata": {
    "tags": []
   },
   "outputs": [
    {
     "data": {
      "text/html": [
       "<div>\n",
       "<style scoped>\n",
       "    .dataframe tbody tr th:only-of-type {\n",
       "        vertical-align: middle;\n",
       "    }\n",
       "\n",
       "    .dataframe tbody tr th {\n",
       "        vertical-align: top;\n",
       "    }\n",
       "\n",
       "    .dataframe thead th {\n",
       "        text-align: right;\n",
       "    }\n",
       "</style>\n",
       "<table border=\"1\" class=\"dataframe\">\n",
       "  <thead>\n",
       "    <tr style=\"text-align: right;\">\n",
       "      <th></th>\n",
       "      <th>fit_time</th>\n",
       "      <th>score_time</th>\n",
       "      <th>test_score</th>\n",
       "      <th>train_score</th>\n",
       "    </tr>\n",
       "  </thead>\n",
       "  <tbody>\n",
       "    <tr>\n",
       "      <th>Dummy Classifier</th>\n",
       "      <td>0.056 (+/- 0.010)</td>\n",
       "      <td>0.012 (+/- 0.009)</td>\n",
       "      <td>0.779 (+/- 0.000)</td>\n",
       "      <td>0.779 (+/- 0.000)</td>\n",
       "    </tr>\n",
       "  </tbody>\n",
       "</table>\n",
       "</div>"
      ],
      "text/plain": [
       "                           fit_time         score_time         test_score  \\\n",
       "Dummy Classifier  0.056 (+/- 0.010)  0.012 (+/- 0.009)  0.779 (+/- 0.000)   \n",
       "\n",
       "                        train_score  \n",
       "Dummy Classifier  0.779 (+/- 0.000)  "
      ]
     },
     "execution_count": 27,
     "metadata": {},
     "output_type": "execute_result"
    }
   ],
   "source": [
    "pd.DataFrame(results_dict).T"
   ]
  },
  {
   "cell_type": "markdown",
   "id": "a160da6c-ce15-489f-b26c-7cf96ca572af",
   "metadata": {},
   "source": [
    "* After a 5-fold cross validation, our Dummy Classifier model achieved an average of validation score of roughly 0.778"
   ]
  },
  {
   "cell_type": "markdown",
   "id": "d0cae99b-a757-45d2-a653-1bfcf75bd65c",
   "metadata": {},
   "source": [
    "* Implementing the remaining models: Logistic Regression, Random Forest and Decision Tree:"
   ]
  },
  {
   "cell_type": "code",
   "execution_count": 28,
   "id": "747fd95d-388e-4b35-9598-004cdb6e55e0",
   "metadata": {
    "tags": []
   },
   "outputs": [
    {
     "name": "stderr",
     "output_type": "stream",
     "text": [
      "C:\\Users\\Admin\\anaconda3\\Lib\\site-packages\\sklearn\\linear_model\\_logistic.py:460: ConvergenceWarning: lbfgs failed to converge (status=1):\n",
      "STOP: TOTAL NO. of ITERATIONS REACHED LIMIT.\n",
      "\n",
      "Increase the number of iterations (max_iter) or scale the data as shown in:\n",
      "    https://scikit-learn.org/stable/modules/preprocessing.html\n",
      "Please also refer to the documentation for alternative solver options:\n",
      "    https://scikit-learn.org/stable/modules/linear_model.html#logistic-regression\n",
      "  n_iter_i = _check_optimize_result(\n",
      "C:\\Users\\Admin\\anaconda3\\Lib\\site-packages\\sklearn\\linear_model\\_logistic.py:460: ConvergenceWarning: lbfgs failed to converge (status=1):\n",
      "STOP: TOTAL NO. of ITERATIONS REACHED LIMIT.\n",
      "\n",
      "Increase the number of iterations (max_iter) or scale the data as shown in:\n",
      "    https://scikit-learn.org/stable/modules/preprocessing.html\n",
      "Please also refer to the documentation for alternative solver options:\n",
      "    https://scikit-learn.org/stable/modules/linear_model.html#logistic-regression\n",
      "  n_iter_i = _check_optimize_result(\n",
      "C:\\Users\\Admin\\anaconda3\\Lib\\site-packages\\sklearn\\linear_model\\_logistic.py:460: ConvergenceWarning: lbfgs failed to converge (status=1):\n",
      "STOP: TOTAL NO. of ITERATIONS REACHED LIMIT.\n",
      "\n",
      "Increase the number of iterations (max_iter) or scale the data as shown in:\n",
      "    https://scikit-learn.org/stable/modules/preprocessing.html\n",
      "Please also refer to the documentation for alternative solver options:\n",
      "    https://scikit-learn.org/stable/modules/linear_model.html#logistic-regression\n",
      "  n_iter_i = _check_optimize_result(\n",
      "C:\\Users\\Admin\\anaconda3\\Lib\\site-packages\\sklearn\\linear_model\\_logistic.py:460: ConvergenceWarning: lbfgs failed to converge (status=1):\n",
      "STOP: TOTAL NO. of ITERATIONS REACHED LIMIT.\n",
      "\n",
      "Increase the number of iterations (max_iter) or scale the data as shown in:\n",
      "    https://scikit-learn.org/stable/modules/preprocessing.html\n",
      "Please also refer to the documentation for alternative solver options:\n",
      "    https://scikit-learn.org/stable/modules/linear_model.html#logistic-regression\n",
      "  n_iter_i = _check_optimize_result(\n",
      "C:\\Users\\Admin\\anaconda3\\Lib\\site-packages\\sklearn\\linear_model\\_logistic.py:460: ConvergenceWarning: lbfgs failed to converge (status=1):\n",
      "STOP: TOTAL NO. of ITERATIONS REACHED LIMIT.\n",
      "\n",
      "Increase the number of iterations (max_iter) or scale the data as shown in:\n",
      "    https://scikit-learn.org/stable/modules/preprocessing.html\n",
      "Please also refer to the documentation for alternative solver options:\n",
      "    https://scikit-learn.org/stable/modules/linear_model.html#logistic-regression\n",
      "  n_iter_i = _check_optimize_result(\n",
      "C:\\Users\\Admin\\AppData\\Local\\Temp\\ipykernel_16828\\2577086146.py:27: FutureWarning: Series.__getitem__ treating keys as positions is deprecated. In a future version, integer keys will always be treated as labels (consistent with DataFrame behavior). To access a value by position, use `ser.iloc[pos]`\n",
      "  out_col.append((f\"%0.3f (+/- %0.3f)\" % (mean_scores[i], std_scores[i])))\n",
      "C:\\Users\\Admin\\AppData\\Local\\Temp\\ipykernel_16828\\2577086146.py:27: FutureWarning: Series.__getitem__ treating keys as positions is deprecated. In a future version, integer keys will always be treated as labels (consistent with DataFrame behavior). To access a value by position, use `ser.iloc[pos]`\n",
      "  out_col.append((f\"%0.3f (+/- %0.3f)\" % (mean_scores[i], std_scores[i])))\n",
      "C:\\Users\\Admin\\AppData\\Local\\Temp\\ipykernel_16828\\2577086146.py:27: FutureWarning: Series.__getitem__ treating keys as positions is deprecated. In a future version, integer keys will always be treated as labels (consistent with DataFrame behavior). To access a value by position, use `ser.iloc[pos]`\n",
      "  out_col.append((f\"%0.3f (+/- %0.3f)\" % (mean_scores[i], std_scores[i])))\n"
     ]
    }
   ],
   "source": [
    "models = {\n",
    "    \"Logistic Regression\": LogisticRegression(),\n",
    "    \"Decision Tree Classifier\": DecisionTreeClassifier(random_state = 123),\n",
    "    \"Random Forest\": RandomForestClassifier(n_jobs = -1, random_state = 123)\n",
    "}\n",
    "\n",
    "for model_name in list(models.keys()):\n",
    "    pipeline = make_pipeline(preprocessor, models[model_name])\n",
    "    results_dict[model_name] = mean_std_cross_val_scores(models[model_name],\n",
    "                                                         X_train,\n",
    "                                                         y_train,\n",
    "                                                         cv = 5,\n",
    "                                                         return_train_score = True)"
   ]
  },
  {
   "cell_type": "code",
   "execution_count": 29,
   "id": "243ea549-76ce-4ba1-9e7b-f24f04b7fae3",
   "metadata": {
    "tags": []
   },
   "outputs": [
    {
     "data": {
      "text/html": [
       "<div>\n",
       "<style scoped>\n",
       "    .dataframe tbody tr th:only-of-type {\n",
       "        vertical-align: middle;\n",
       "    }\n",
       "\n",
       "    .dataframe tbody tr th {\n",
       "        vertical-align: top;\n",
       "    }\n",
       "\n",
       "    .dataframe thead th {\n",
       "        text-align: right;\n",
       "    }\n",
       "</style>\n",
       "<table border=\"1\" class=\"dataframe\">\n",
       "  <thead>\n",
       "    <tr style=\"text-align: right;\">\n",
       "      <th></th>\n",
       "      <th>fit_time</th>\n",
       "      <th>score_time</th>\n",
       "      <th>test_score</th>\n",
       "      <th>train_score</th>\n",
       "    </tr>\n",
       "  </thead>\n",
       "  <tbody>\n",
       "    <tr>\n",
       "      <th>Dummy Classifier</th>\n",
       "      <td>0.056 (+/- 0.010)</td>\n",
       "      <td>0.012 (+/- 0.009)</td>\n",
       "      <td>0.779 (+/- 0.000)</td>\n",
       "      <td>0.779 (+/- 0.000)</td>\n",
       "    </tr>\n",
       "    <tr>\n",
       "      <th>Logistic Regression</th>\n",
       "      <td>0.147 (+/- 0.026)</td>\n",
       "      <td>0.004 (+/- 0.004)</td>\n",
       "      <td>0.779 (+/- 0.000)</td>\n",
       "      <td>0.779 (+/- 0.000)</td>\n",
       "    </tr>\n",
       "    <tr>\n",
       "      <th>Decision Tree Classifier</th>\n",
       "      <td>1.412 (+/- 0.045)</td>\n",
       "      <td>0.003 (+/- 0.003)</td>\n",
       "      <td>0.726 (+/- 0.008)</td>\n",
       "      <td>1.000 (+/- 0.000)</td>\n",
       "    </tr>\n",
       "    <tr>\n",
       "      <th>Random Forest</th>\n",
       "      <td>3.965 (+/- 1.240)</td>\n",
       "      <td>0.106 (+/- 0.016)</td>\n",
       "      <td>0.815 (+/- 0.007)</td>\n",
       "      <td>1.000 (+/- 0.000)</td>\n",
       "    </tr>\n",
       "  </tbody>\n",
       "</table>\n",
       "</div>"
      ],
      "text/plain": [
       "                                   fit_time         score_time  \\\n",
       "Dummy Classifier          0.056 (+/- 0.010)  0.012 (+/- 0.009)   \n",
       "Logistic Regression       0.147 (+/- 0.026)  0.004 (+/- 0.004)   \n",
       "Decision Tree Classifier  1.412 (+/- 0.045)  0.003 (+/- 0.003)   \n",
       "Random Forest             3.965 (+/- 1.240)  0.106 (+/- 0.016)   \n",
       "\n",
       "                                 test_score        train_score  \n",
       "Dummy Classifier          0.779 (+/- 0.000)  0.779 (+/- 0.000)  \n",
       "Logistic Regression       0.779 (+/- 0.000)  0.779 (+/- 0.000)  \n",
       "Decision Tree Classifier  0.726 (+/- 0.008)  1.000 (+/- 0.000)  \n",
       "Random Forest             0.815 (+/- 0.007)  1.000 (+/- 0.000)  "
      ]
     },
     "execution_count": 29,
     "metadata": {},
     "output_type": "execute_result"
    }
   ],
   "source": [
    "pd.DataFrame(results_dict).T"
   ]
  },
  {
   "cell_type": "markdown",
   "id": "615a6df8-230a-44de-841d-b834772ea801",
   "metadata": {},
   "source": [
    "__SOME OBSERVATIONS__:\n",
    "* It was surprising to notice that the Logistic Regression model performs just as well as the Dummy Classifier model. I expected that our logistic regression model would perform better as it took into account features while the Dummy Classifier only looks at target classes.\n",
    "* Our Decision Tree classifier had the worst performance when it comes to validation score. This model also suffers from overfitting as we received a training score of 0.999. This may change as we experiment hyperparameter optimization.\n",
    "* Random Forest had the optimal validation score. However, this model also experiences overfitting. This model also had the highest fitting time out of all models."
   ]
  },
  {
   "cell_type": "markdown",
   "id": "945ecb69-e8ed-4441-b165-0c1f4945b2fd",
   "metadata": {},
   "source": [
    "## Hyperparameter tuning for our random forest model:\n",
    "* Given in our cross-validation summary table above, it is safe to assume that we can use our random forest model to deploy later on. In this part, I will be conducting a grid search to search across different values of parameters to find the optimal model)"
   ]
  },
  {
   "cell_type": "code",
   "execution_count": 30,
   "id": "c17b4cdf-be55-4882-9bac-8a339e997e0f",
   "metadata": {
    "tags": []
   },
   "outputs": [
    {
     "data": {
      "text/html": [
       "<style>#sk-container-id-1 {color: black;}#sk-container-id-1 pre{padding: 0;}#sk-container-id-1 div.sk-toggleable {background-color: white;}#sk-container-id-1 label.sk-toggleable__label {cursor: pointer;display: block;width: 100%;margin-bottom: 0;padding: 0.3em;box-sizing: border-box;text-align: center;}#sk-container-id-1 label.sk-toggleable__label-arrow:before {content: \"▸\";float: left;margin-right: 0.25em;color: #696969;}#sk-container-id-1 label.sk-toggleable__label-arrow:hover:before {color: black;}#sk-container-id-1 div.sk-estimator:hover label.sk-toggleable__label-arrow:before {color: black;}#sk-container-id-1 div.sk-toggleable__content {max-height: 0;max-width: 0;overflow: hidden;text-align: left;background-color: #f0f8ff;}#sk-container-id-1 div.sk-toggleable__content pre {margin: 0.2em;color: black;border-radius: 0.25em;background-color: #f0f8ff;}#sk-container-id-1 input.sk-toggleable__control:checked~div.sk-toggleable__content {max-height: 200px;max-width: 100%;overflow: auto;}#sk-container-id-1 input.sk-toggleable__control:checked~label.sk-toggleable__label-arrow:before {content: \"▾\";}#sk-container-id-1 div.sk-estimator input.sk-toggleable__control:checked~label.sk-toggleable__label {background-color: #d4ebff;}#sk-container-id-1 div.sk-label input.sk-toggleable__control:checked~label.sk-toggleable__label {background-color: #d4ebff;}#sk-container-id-1 input.sk-hidden--visually {border: 0;clip: rect(1px 1px 1px 1px);clip: rect(1px, 1px, 1px, 1px);height: 1px;margin: -1px;overflow: hidden;padding: 0;position: absolute;width: 1px;}#sk-container-id-1 div.sk-estimator {font-family: monospace;background-color: #f0f8ff;border: 1px dotted black;border-radius: 0.25em;box-sizing: border-box;margin-bottom: 0.5em;}#sk-container-id-1 div.sk-estimator:hover {background-color: #d4ebff;}#sk-container-id-1 div.sk-parallel-item::after {content: \"\";width: 100%;border-bottom: 1px solid gray;flex-grow: 1;}#sk-container-id-1 div.sk-label:hover label.sk-toggleable__label {background-color: #d4ebff;}#sk-container-id-1 div.sk-serial::before {content: \"\";position: absolute;border-left: 1px solid gray;box-sizing: border-box;top: 0;bottom: 0;left: 50%;z-index: 0;}#sk-container-id-1 div.sk-serial {display: flex;flex-direction: column;align-items: center;background-color: white;padding-right: 0.2em;padding-left: 0.2em;position: relative;}#sk-container-id-1 div.sk-item {position: relative;z-index: 1;}#sk-container-id-1 div.sk-parallel {display: flex;align-items: stretch;justify-content: center;background-color: white;position: relative;}#sk-container-id-1 div.sk-item::before, #sk-container-id-1 div.sk-parallel-item::before {content: \"\";position: absolute;border-left: 1px solid gray;box-sizing: border-box;top: 0;bottom: 0;left: 50%;z-index: -1;}#sk-container-id-1 div.sk-parallel-item {display: flex;flex-direction: column;z-index: 1;position: relative;background-color: white;}#sk-container-id-1 div.sk-parallel-item:first-child::after {align-self: flex-end;width: 50%;}#sk-container-id-1 div.sk-parallel-item:last-child::after {align-self: flex-start;width: 50%;}#sk-container-id-1 div.sk-parallel-item:only-child::after {width: 0;}#sk-container-id-1 div.sk-dashed-wrapped {border: 1px dashed gray;margin: 0 0.4em 0.5em 0.4em;box-sizing: border-box;padding-bottom: 0.4em;background-color: white;}#sk-container-id-1 div.sk-label label {font-family: monospace;font-weight: bold;display: inline-block;line-height: 1.2em;}#sk-container-id-1 div.sk-label-container {text-align: center;}#sk-container-id-1 div.sk-container {/* jupyter's `normalize.less` sets `[hidden] { display: none; }` but bootstrap.min.css set `[hidden] { display: none !important; }` so we also need the `!important` here to be able to override the default hidden behavior on the sphinx rendered scikit-learn.org. See: https://github.com/scikit-learn/scikit-learn/issues/21755 */display: inline-block !important;position: relative;}#sk-container-id-1 div.sk-text-repr-fallback {display: none;}</style><div id=\"sk-container-id-1\" class=\"sk-top-container\"><div class=\"sk-text-repr-fallback\"><pre>GridSearchCV(estimator=RandomForestClassifier(random_state=123), n_jobs=-1,\n",
       "             param_grid={&#x27;max_depth&#x27;: [3, 6, 9, 12],\n",
       "                         &#x27;n_estimators&#x27;: [25, 50, 100, 150]},\n",
       "             return_train_score=True)</pre><b>In a Jupyter environment, please rerun this cell to show the HTML representation or trust the notebook. <br />On GitHub, the HTML representation is unable to render, please try loading this page with nbviewer.org.</b></div><div class=\"sk-container\" hidden><div class=\"sk-item sk-dashed-wrapped\"><div class=\"sk-label-container\"><div class=\"sk-label sk-toggleable\"><input class=\"sk-toggleable__control sk-hidden--visually\" id=\"sk-estimator-id-1\" type=\"checkbox\" ><label for=\"sk-estimator-id-1\" class=\"sk-toggleable__label sk-toggleable__label-arrow\">GridSearchCV</label><div class=\"sk-toggleable__content\"><pre>GridSearchCV(estimator=RandomForestClassifier(random_state=123), n_jobs=-1,\n",
       "             param_grid={&#x27;max_depth&#x27;: [3, 6, 9, 12],\n",
       "                         &#x27;n_estimators&#x27;: [25, 50, 100, 150]},\n",
       "             return_train_score=True)</pre></div></div></div><div class=\"sk-parallel\"><div class=\"sk-parallel-item\"><div class=\"sk-item\"><div class=\"sk-label-container\"><div class=\"sk-label sk-toggleable\"><input class=\"sk-toggleable__control sk-hidden--visually\" id=\"sk-estimator-id-2\" type=\"checkbox\" ><label for=\"sk-estimator-id-2\" class=\"sk-toggleable__label sk-toggleable__label-arrow\">estimator: RandomForestClassifier</label><div class=\"sk-toggleable__content\"><pre>RandomForestClassifier(random_state=123)</pre></div></div></div><div class=\"sk-serial\"><div class=\"sk-item\"><div class=\"sk-estimator sk-toggleable\"><input class=\"sk-toggleable__control sk-hidden--visually\" id=\"sk-estimator-id-3\" type=\"checkbox\" ><label for=\"sk-estimator-id-3\" class=\"sk-toggleable__label sk-toggleable__label-arrow\">RandomForestClassifier</label><div class=\"sk-toggleable__content\"><pre>RandomForestClassifier(random_state=123)</pre></div></div></div></div></div></div></div></div></div></div>"
      ],
      "text/plain": [
       "GridSearchCV(estimator=RandomForestClassifier(random_state=123), n_jobs=-1,\n",
       "             param_grid={'max_depth': [3, 6, 9, 12],\n",
       "                         'n_estimators': [25, 50, 100, 150]},\n",
       "             return_train_score=True)"
      ]
     },
     "execution_count": 30,
     "metadata": {},
     "output_type": "execute_result"
    }
   ],
   "source": [
    "##Hyperparameter tuning for a RandomForestClassifier:\n",
    "##Reference: range of hyperparameters adapted from GeekForGeeks article on hyperparameter tuning\n",
    "\n",
    "param_grid = {\n",
    "    'n_estimators': [25, 50, 100, 150],\n",
    "    'max_depth': [3,6, 9, 12],\n",
    "}\n",
    "\n",
    "gs = GridSearchCV(RandomForestClassifier(random_state = 123),\n",
    "                        param_grid = param_grid,\n",
    "                        n_jobs = -1,\n",
    "                       return_train_score = True)\n",
    "gs.fit(X_train, y_train)"
   ]
  },
  {
   "cell_type": "code",
   "execution_count": 31,
   "id": "09ae2279-5b69-44f9-bfe4-19ef4ae0ff86",
   "metadata": {
    "tags": []
   },
   "outputs": [
    {
     "data": {
      "text/plain": [
       "0.8194583333333334"
      ]
     },
     "execution_count": 31,
     "metadata": {},
     "output_type": "execute_result"
    }
   ],
   "source": [
    "gs.best_score_"
   ]
  },
  {
   "cell_type": "code",
   "execution_count": 32,
   "id": "cdd32b39-6c77-41f8-8ecc-2798778c135f",
   "metadata": {
    "tags": []
   },
   "outputs": [
    {
     "data": {
      "text/plain": [
       "{'max_depth': 9, 'n_estimators': 150}"
      ]
     },
     "execution_count": 32,
     "metadata": {},
     "output_type": "execute_result"
    }
   ],
   "source": [
    "gs.best_params_"
   ]
  },
  {
   "cell_type": "markdown",
   "id": "3edecf8e-3d8b-4e19-9284-6dd2a6f43b79",
   "metadata": {},
   "source": [
    "Overall, our random forest achieved its optimal performance with hyperparameters: `max_depth` = 9 and `n_estimators` = 50."
   ]
  },
  {
   "cell_type": "markdown",
   "id": "ab6680b8-a3b8-44d1-8ce0-1e7bee75aa72",
   "metadata": {},
   "source": [
    "### F. DEPLOYMENT"
   ]
  },
  {
   "cell_type": "markdown",
   "id": "db3ed23b-0fe9-483d-9fba-29243243295a",
   "metadata": {},
   "source": [
    "Now that we have a random forest model, we will be retraining our random forest model with its optimal hyperparameter."
   ]
  },
  {
   "cell_type": "code",
   "execution_count": 33,
   "id": "c3331d37-1066-4b7f-abd8-0f7d568a6144",
   "metadata": {
    "tags": []
   },
   "outputs": [
    {
     "data": {
      "text/plain": [
       "0.8193333333333334"
      ]
     },
     "execution_count": 33,
     "metadata": {},
     "output_type": "execute_result"
    }
   ],
   "source": [
    "pipe_retrained = make_pipeline(preprocessor, \n",
    "                               RandomForestClassifier(max_depth = 9, n_estimators = 50, random_state = 123))\n",
    "pipe_retrained.fit(X_train, y_train)\n",
    "pipe_retrained.score(X_test, y_test)"
   ]
  },
  {
   "cell_type": "markdown",
   "id": "42534a28-1ec0-40cc-9848-bc5d4ab84946",
   "metadata": {},
   "source": [
    "Our model achieved an accuracy rate of about 82%. However, this is calculated based on the number of correct predictions over total examples. This statistic may be misleading in the case of class imbalance. "
   ]
  },
  {
   "cell_type": "code",
   "execution_count": 34,
   "id": "49ccad87-85a2-42b7-a0b3-f020f39e8488",
   "metadata": {
    "tags": []
   },
   "outputs": [
    {
     "data": {
      "text/plain": [
       "default.payment.next.month\n",
       "0    18691\n",
       "1     5309\n",
       "Name: count, dtype: int64"
      ]
     },
     "execution_count": 34,
     "metadata": {},
     "output_type": "execute_result"
    }
   ],
   "source": [
    "train_df[\"default.payment.next.month\"].value_counts()"
   ]
  },
  {
   "cell_type": "markdown",
   "id": "e2e336e7-934f-4061-ad39-a5a8673b45b1",
   "metadata": {},
   "source": [
    "The statistics above shows that the majority of examples in our training set are non-default cases. Therefore, using accuracy may not be the optimal metric to assess the performance of our model. In the code below, I will be using other metrics such as precision and recall."
   ]
  },
  {
   "cell_type": "code",
   "execution_count": 35,
   "id": "3094c2c9-62a0-403c-886d-1c12808bcf2a",
   "metadata": {
    "scrolled": true,
    "tags": []
   },
   "outputs": [
    {
     "name": "stdout",
     "output_type": "stream",
     "text": [
      "              precision    recall  f1-score   support\n",
      "\n",
      " Non-default     0.8345    0.9581    0.8920      4673\n",
      "     Default     0.6913    0.3308    0.4475      1327\n",
      "\n",
      "    accuracy                         0.8193      6000\n",
      "   macro avg     0.7629    0.6444    0.6698      6000\n",
      "weighted avg     0.8028    0.8193    0.7937      6000\n",
      "\n"
     ]
    }
   ],
   "source": [
    "from sklearn.metrics import classification_report\n",
    "\n",
    "print(\n",
    "    classification_report(\n",
    "        y_test, pipe_retrained.predict(X_test), target_names = [\"Non-default\", \"Default\"], digits = 4\n",
    "    )\n",
    ")"
   ]
  },
  {
   "cell_type": "code",
   "execution_count": 36,
   "id": "97dde249",
   "metadata": {},
   "outputs": [
    {
     "data": {
      "text/html": [
       "<div>\n",
       "<style scoped>\n",
       "    .dataframe tbody tr th:only-of-type {\n",
       "        vertical-align: middle;\n",
       "    }\n",
       "\n",
       "    .dataframe tbody tr th {\n",
       "        vertical-align: top;\n",
       "    }\n",
       "\n",
       "    .dataframe thead th {\n",
       "        text-align: right;\n",
       "    }\n",
       "</style>\n",
       "<table border=\"1\" class=\"dataframe\">\n",
       "  <thead>\n",
       "    <tr style=\"text-align: right;\">\n",
       "      <th></th>\n",
       "      <th>Importance</th>\n",
       "    </tr>\n",
       "  </thead>\n",
       "  <tbody>\n",
       "    <tr>\n",
       "      <th>onehotencoder-1__PAY_0_2</th>\n",
       "      <td>0.172795</td>\n",
       "    </tr>\n",
       "    <tr>\n",
       "      <th>onehotencoder-1__PAY_2_2</th>\n",
       "      <td>0.117973</td>\n",
       "    </tr>\n",
       "    <tr>\n",
       "      <th>onehotencoder-1__PAY_3_2</th>\n",
       "      <td>0.059559</td>\n",
       "    </tr>\n",
       "    <tr>\n",
       "      <th>onehotencoder-1__PAY_5_2</th>\n",
       "      <td>0.049529</td>\n",
       "    </tr>\n",
       "    <tr>\n",
       "      <th>onehotencoder-1__PAY_4_2</th>\n",
       "      <td>0.039530</td>\n",
       "    </tr>\n",
       "    <tr>\n",
       "      <th>onehotencoder-1__PAY_0_0</th>\n",
       "      <td>0.037624</td>\n",
       "    </tr>\n",
       "    <tr>\n",
       "      <th>standardscaler__PAY_AMT1</th>\n",
       "      <td>0.037171</td>\n",
       "    </tr>\n",
       "    <tr>\n",
       "      <th>standardscaler__LIMIT_BAL</th>\n",
       "      <td>0.035500</td>\n",
       "    </tr>\n",
       "    <tr>\n",
       "      <th>onehotencoder-1__PAY_6_2</th>\n",
       "      <td>0.034865</td>\n",
       "    </tr>\n",
       "    <tr>\n",
       "      <th>standardscaler__BILL_AMT1</th>\n",
       "      <td>0.030052</td>\n",
       "    </tr>\n",
       "  </tbody>\n",
       "</table>\n",
       "</div>"
      ],
      "text/plain": [
       "                           Importance\n",
       "onehotencoder-1__PAY_0_2     0.172795\n",
       "onehotencoder-1__PAY_2_2     0.117973\n",
       "onehotencoder-1__PAY_3_2     0.059559\n",
       "onehotencoder-1__PAY_5_2     0.049529\n",
       "onehotencoder-1__PAY_4_2     0.039530\n",
       "onehotencoder-1__PAY_0_0     0.037624\n",
       "standardscaler__PAY_AMT1     0.037171\n",
       "standardscaler__LIMIT_BAL    0.035500\n",
       "onehotencoder-1__PAY_6_2     0.034865\n",
       "standardscaler__BILL_AMT1    0.030052"
      ]
     },
     "execution_count": 36,
     "metadata": {},
     "output_type": "execute_result"
    }
   ],
   "source": [
    "data = {\n",
    "    \"Importance\": pipe_retrained.named_steps[\"randomforestclassifier\"].feature_importances_,\n",
    "}\n",
    "importance_dt = pd.DataFrame(data=data, index = pipe_retrained[:-1].get_feature_names_out()).sort_values(\n",
    "    by=\"Importance\", ascending=False\n",
    ")\n",
    "\n",
    "top_10_most_important_features_dt = importance_dt[:10]\n",
    "top_10_most_important_features_dt"
   ]
  },
  {
   "cell_type": "code",
   "execution_count": 37,
   "id": "92845c5c",
   "metadata": {
    "scrolled": true
   },
   "outputs": [
    {
     "data": {
      "text/html": [
       "<div>\n",
       "<style scoped>\n",
       "    .dataframe tbody tr th:only-of-type {\n",
       "        vertical-align: middle;\n",
       "    }\n",
       "\n",
       "    .dataframe tbody tr th {\n",
       "        vertical-align: top;\n",
       "    }\n",
       "\n",
       "    .dataframe thead th {\n",
       "        text-align: right;\n",
       "    }\n",
       "</style>\n",
       "<table border=\"1\" class=\"dataframe\">\n",
       "  <thead>\n",
       "    <tr style=\"text-align: right;\">\n",
       "      <th></th>\n",
       "      <th>Importance</th>\n",
       "    </tr>\n",
       "  </thead>\n",
       "  <tbody>\n",
       "    <tr>\n",
       "      <th>onehotencoder-1__PAY_2_8</th>\n",
       "      <td>0.0</td>\n",
       "    </tr>\n",
       "    <tr>\n",
       "      <th>onehotencoder-1__PAY_5_8</th>\n",
       "      <td>0.0</td>\n",
       "    </tr>\n",
       "    <tr>\n",
       "      <th>onehotencoder-1__PAY_3_1</th>\n",
       "      <td>0.0</td>\n",
       "    </tr>\n",
       "    <tr>\n",
       "      <th>onehotencoder-1__PAY_4_8</th>\n",
       "      <td>0.0</td>\n",
       "    </tr>\n",
       "    <tr>\n",
       "      <th>onehotencoder-1__EDUCATION_0</th>\n",
       "      <td>0.0</td>\n",
       "    </tr>\n",
       "    <tr>\n",
       "      <th>onehotencoder-1__PAY_6_8</th>\n",
       "      <td>0.0</td>\n",
       "    </tr>\n",
       "  </tbody>\n",
       "</table>\n",
       "</div>"
      ],
      "text/plain": [
       "                              Importance\n",
       "onehotencoder-1__PAY_2_8             0.0\n",
       "onehotencoder-1__PAY_5_8             0.0\n",
       "onehotencoder-1__PAY_3_1             0.0\n",
       "onehotencoder-1__PAY_4_8             0.0\n",
       "onehotencoder-1__EDUCATION_0         0.0\n",
       "onehotencoder-1__PAY_6_8             0.0"
      ]
     },
     "execution_count": 37,
     "metadata": {},
     "output_type": "execute_result"
    }
   ],
   "source": [
    "importance_dt_bot = importance_dt[importance_dt[\"Importance\"] == 0]\n",
    "importance_dt_bot"
   ]
  },
  {
   "cell_type": "markdown",
   "id": "56b84d3a",
   "metadata": {},
   "source": [
    "### Experiment: SMOTE Resampling\n",
    "- In our recent model, using Random Forest (our best performing model in terms of testing score) with selected optimal hyperparameters to train and predict on unseen data, we received a __recall (the percentage of actual payment default cases that was predicted correctly)__ of roughly 34%. \n",
    "\n",
    "- From my understanding, financial institutions may be more interested in having a model that could capture more default cases to help them make more reliable evaluations of credit applications. \n",
    "\n",
    "- To do so, this side experiment of the project will be using a technique called __SMOTE Resampling__ (in other words, we use our computer to generate more default cases using the trends within the pre-existing default cases). This will address the issue of class imbalance.\n",
    "\n",
    "- __NOTE__: this method is not currently included in the main workflow due to potential bias that may present in default cases."
   ]
  },
  {
   "cell_type": "markdown",
   "id": "285f8144",
   "metadata": {},
   "source": [
    "To do so, we follow the steps below:\n",
    "* Declare a SMOTE algorithm and fit it into our training data.\n",
    "* Use the resampled data to perform cross-validation across models and select the best performing model.\n",
    "* Find optimal hyperparameters for the best performing models.\n",
    "* Train the model and predict on new data."
   ]
  },
  {
   "cell_type": "code",
   "execution_count": 27,
   "id": "afe486c4",
   "metadata": {},
   "outputs": [],
   "source": [
    "sm = SMOTE(random_state=42, k_neighbors=5)\n",
    "X_train_res, y_train_res = sm.fit_resample(X_train, y_train)"
   ]
  },
  {
   "cell_type": "code",
   "execution_count": 34,
   "id": "fadd3785",
   "metadata": {
    "scrolled": true
   },
   "outputs": [
    {
     "name": "stderr",
     "output_type": "stream",
     "text": [
      "C:\\Users\\Admin\\anaconda3\\Lib\\site-packages\\sklearn\\linear_model\\_logistic.py:460: ConvergenceWarning: lbfgs failed to converge (status=1):\n",
      "STOP: TOTAL NO. of ITERATIONS REACHED LIMIT.\n",
      "\n",
      "Increase the number of iterations (max_iter) or scale the data as shown in:\n",
      "    https://scikit-learn.org/stable/modules/preprocessing.html\n",
      "Please also refer to the documentation for alternative solver options:\n",
      "    https://scikit-learn.org/stable/modules/linear_model.html#logistic-regression\n",
      "  n_iter_i = _check_optimize_result(\n",
      "C:\\Users\\Admin\\anaconda3\\Lib\\site-packages\\sklearn\\linear_model\\_logistic.py:460: ConvergenceWarning: lbfgs failed to converge (status=1):\n",
      "STOP: TOTAL NO. of ITERATIONS REACHED LIMIT.\n",
      "\n",
      "Increase the number of iterations (max_iter) or scale the data as shown in:\n",
      "    https://scikit-learn.org/stable/modules/preprocessing.html\n",
      "Please also refer to the documentation for alternative solver options:\n",
      "    https://scikit-learn.org/stable/modules/linear_model.html#logistic-regression\n",
      "  n_iter_i = _check_optimize_result(\n",
      "C:\\Users\\Admin\\anaconda3\\Lib\\site-packages\\sklearn\\linear_model\\_logistic.py:460: ConvergenceWarning: lbfgs failed to converge (status=1):\n",
      "STOP: TOTAL NO. of ITERATIONS REACHED LIMIT.\n",
      "\n",
      "Increase the number of iterations (max_iter) or scale the data as shown in:\n",
      "    https://scikit-learn.org/stable/modules/preprocessing.html\n",
      "Please also refer to the documentation for alternative solver options:\n",
      "    https://scikit-learn.org/stable/modules/linear_model.html#logistic-regression\n",
      "  n_iter_i = _check_optimize_result(\n",
      "C:\\Users\\Admin\\anaconda3\\Lib\\site-packages\\sklearn\\linear_model\\_logistic.py:460: ConvergenceWarning: lbfgs failed to converge (status=1):\n",
      "STOP: TOTAL NO. of ITERATIONS REACHED LIMIT.\n",
      "\n",
      "Increase the number of iterations (max_iter) or scale the data as shown in:\n",
      "    https://scikit-learn.org/stable/modules/preprocessing.html\n",
      "Please also refer to the documentation for alternative solver options:\n",
      "    https://scikit-learn.org/stable/modules/linear_model.html#logistic-regression\n",
      "  n_iter_i = _check_optimize_result(\n",
      "C:\\Users\\Admin\\anaconda3\\Lib\\site-packages\\sklearn\\linear_model\\_logistic.py:460: ConvergenceWarning: lbfgs failed to converge (status=1):\n",
      "STOP: TOTAL NO. of ITERATIONS REACHED LIMIT.\n",
      "\n",
      "Increase the number of iterations (max_iter) or scale the data as shown in:\n",
      "    https://scikit-learn.org/stable/modules/preprocessing.html\n",
      "Please also refer to the documentation for alternative solver options:\n",
      "    https://scikit-learn.org/stable/modules/linear_model.html#logistic-regression\n",
      "  n_iter_i = _check_optimize_result(\n",
      "C:\\Users\\Admin\\AppData\\Local\\Temp\\ipykernel_18364\\2577086146.py:27: FutureWarning: Series.__getitem__ treating keys as positions is deprecated. In a future version, integer keys will always be treated as labels (consistent with DataFrame behavior). To access a value by position, use `ser.iloc[pos]`\n",
      "  out_col.append((f\"%0.3f (+/- %0.3f)\" % (mean_scores[i], std_scores[i])))\n",
      "C:\\Users\\Admin\\AppData\\Local\\Temp\\ipykernel_18364\\2577086146.py:27: FutureWarning: Series.__getitem__ treating keys as positions is deprecated. In a future version, integer keys will always be treated as labels (consistent with DataFrame behavior). To access a value by position, use `ser.iloc[pos]`\n",
      "  out_col.append((f\"%0.3f (+/- %0.3f)\" % (mean_scores[i], std_scores[i])))\n",
      "C:\\Users\\Admin\\AppData\\Local\\Temp\\ipykernel_18364\\2577086146.py:27: FutureWarning: Series.__getitem__ treating keys as positions is deprecated. In a future version, integer keys will always be treated as labels (consistent with DataFrame behavior). To access a value by position, use `ser.iloc[pos]`\n",
      "  out_col.append((f\"%0.3f (+/- %0.3f)\" % (mean_scores[i], std_scores[i])))\n"
     ]
    }
   ],
   "source": [
    "results_dict_new = {}\n",
    "models = {\n",
    "    \"Logistic Regression\": LogisticRegression(),\n",
    "    \"Decision Tree Classifier\": DecisionTreeClassifier(random_state = 123),\n",
    "    \"Random Forest\": RandomForestClassifier(n_jobs = -1, random_state = 123)\n",
    "}\n",
    "\n",
    "for model_name in list(models.keys()):\n",
    "    pipeline = make_pipeline(preprocessor, models[model_name])\n",
    "    results_dict_new[model_name] = mean_std_cross_val_scores(models[model_name],\n",
    "                                                         X_train_res,\n",
    "                                                         y_train_res,\n",
    "                                                         cv = 5,\n",
    "                                                         return_train_score = True)"
   ]
  },
  {
   "cell_type": "code",
   "execution_count": 35,
   "id": "2f9edb4e",
   "metadata": {},
   "outputs": [
    {
     "data": {
      "text/html": [
       "<div>\n",
       "<style scoped>\n",
       "    .dataframe tbody tr th:only-of-type {\n",
       "        vertical-align: middle;\n",
       "    }\n",
       "\n",
       "    .dataframe tbody tr th {\n",
       "        vertical-align: top;\n",
       "    }\n",
       "\n",
       "    .dataframe thead th {\n",
       "        text-align: right;\n",
       "    }\n",
       "</style>\n",
       "<table border=\"1\" class=\"dataframe\">\n",
       "  <thead>\n",
       "    <tr style=\"text-align: right;\">\n",
       "      <th></th>\n",
       "      <th>fit_time</th>\n",
       "      <th>score_time</th>\n",
       "      <th>test_score</th>\n",
       "      <th>train_score</th>\n",
       "    </tr>\n",
       "  </thead>\n",
       "  <tbody>\n",
       "    <tr>\n",
       "      <th>Logistic Regression</th>\n",
       "      <td>0.544 (+/- 0.052)</td>\n",
       "      <td>0.011 (+/- 0.003)</td>\n",
       "      <td>0.590 (+/- 0.019)</td>\n",
       "      <td>0.591 (+/- 0.012)</td>\n",
       "    </tr>\n",
       "    <tr>\n",
       "      <th>Decision Tree Classifier</th>\n",
       "      <td>4.495 (+/- 0.118)</td>\n",
       "      <td>0.014 (+/- 0.008)</td>\n",
       "      <td>0.749 (+/- 0.059)</td>\n",
       "      <td>0.999 (+/- 0.000)</td>\n",
       "    </tr>\n",
       "    <tr>\n",
       "      <th>Random Forest</th>\n",
       "      <td>12.520 (+/- 0.272)</td>\n",
       "      <td>0.188 (+/- 0.009)</td>\n",
       "      <td>0.840 (+/- 0.071)</td>\n",
       "      <td>0.999 (+/- 0.000)</td>\n",
       "    </tr>\n",
       "  </tbody>\n",
       "</table>\n",
       "</div>"
      ],
      "text/plain": [
       "                                    fit_time         score_time  \\\n",
       "Logistic Regression        0.544 (+/- 0.052)  0.011 (+/- 0.003)   \n",
       "Decision Tree Classifier   4.495 (+/- 0.118)  0.014 (+/- 0.008)   \n",
       "Random Forest             12.520 (+/- 0.272)  0.188 (+/- 0.009)   \n",
       "\n",
       "                                 test_score        train_score  \n",
       "Logistic Regression       0.590 (+/- 0.019)  0.591 (+/- 0.012)  \n",
       "Decision Tree Classifier  0.749 (+/- 0.059)  0.999 (+/- 0.000)  \n",
       "Random Forest             0.840 (+/- 0.071)  0.999 (+/- 0.000)  "
      ]
     },
     "execution_count": 35,
     "metadata": {},
     "output_type": "execute_result"
    }
   ],
   "source": [
    "pd.DataFrame(results_dict_new).T"
   ]
  },
  {
   "cell_type": "code",
   "execution_count": 36,
   "id": "cb429c5b",
   "metadata": {},
   "outputs": [
    {
     "data": {
      "text/html": [
       "<style>#sk-container-id-3 {color: black;}#sk-container-id-3 pre{padding: 0;}#sk-container-id-3 div.sk-toggleable {background-color: white;}#sk-container-id-3 label.sk-toggleable__label {cursor: pointer;display: block;width: 100%;margin-bottom: 0;padding: 0.3em;box-sizing: border-box;text-align: center;}#sk-container-id-3 label.sk-toggleable__label-arrow:before {content: \"▸\";float: left;margin-right: 0.25em;color: #696969;}#sk-container-id-3 label.sk-toggleable__label-arrow:hover:before {color: black;}#sk-container-id-3 div.sk-estimator:hover label.sk-toggleable__label-arrow:before {color: black;}#sk-container-id-3 div.sk-toggleable__content {max-height: 0;max-width: 0;overflow: hidden;text-align: left;background-color: #f0f8ff;}#sk-container-id-3 div.sk-toggleable__content pre {margin: 0.2em;color: black;border-radius: 0.25em;background-color: #f0f8ff;}#sk-container-id-3 input.sk-toggleable__control:checked~div.sk-toggleable__content {max-height: 200px;max-width: 100%;overflow: auto;}#sk-container-id-3 input.sk-toggleable__control:checked~label.sk-toggleable__label-arrow:before {content: \"▾\";}#sk-container-id-3 div.sk-estimator input.sk-toggleable__control:checked~label.sk-toggleable__label {background-color: #d4ebff;}#sk-container-id-3 div.sk-label input.sk-toggleable__control:checked~label.sk-toggleable__label {background-color: #d4ebff;}#sk-container-id-3 input.sk-hidden--visually {border: 0;clip: rect(1px 1px 1px 1px);clip: rect(1px, 1px, 1px, 1px);height: 1px;margin: -1px;overflow: hidden;padding: 0;position: absolute;width: 1px;}#sk-container-id-3 div.sk-estimator {font-family: monospace;background-color: #f0f8ff;border: 1px dotted black;border-radius: 0.25em;box-sizing: border-box;margin-bottom: 0.5em;}#sk-container-id-3 div.sk-estimator:hover {background-color: #d4ebff;}#sk-container-id-3 div.sk-parallel-item::after {content: \"\";width: 100%;border-bottom: 1px solid gray;flex-grow: 1;}#sk-container-id-3 div.sk-label:hover label.sk-toggleable__label {background-color: #d4ebff;}#sk-container-id-3 div.sk-serial::before {content: \"\";position: absolute;border-left: 1px solid gray;box-sizing: border-box;top: 0;bottom: 0;left: 50%;z-index: 0;}#sk-container-id-3 div.sk-serial {display: flex;flex-direction: column;align-items: center;background-color: white;padding-right: 0.2em;padding-left: 0.2em;position: relative;}#sk-container-id-3 div.sk-item {position: relative;z-index: 1;}#sk-container-id-3 div.sk-parallel {display: flex;align-items: stretch;justify-content: center;background-color: white;position: relative;}#sk-container-id-3 div.sk-item::before, #sk-container-id-3 div.sk-parallel-item::before {content: \"\";position: absolute;border-left: 1px solid gray;box-sizing: border-box;top: 0;bottom: 0;left: 50%;z-index: -1;}#sk-container-id-3 div.sk-parallel-item {display: flex;flex-direction: column;z-index: 1;position: relative;background-color: white;}#sk-container-id-3 div.sk-parallel-item:first-child::after {align-self: flex-end;width: 50%;}#sk-container-id-3 div.sk-parallel-item:last-child::after {align-self: flex-start;width: 50%;}#sk-container-id-3 div.sk-parallel-item:only-child::after {width: 0;}#sk-container-id-3 div.sk-dashed-wrapped {border: 1px dashed gray;margin: 0 0.4em 0.5em 0.4em;box-sizing: border-box;padding-bottom: 0.4em;background-color: white;}#sk-container-id-3 div.sk-label label {font-family: monospace;font-weight: bold;display: inline-block;line-height: 1.2em;}#sk-container-id-3 div.sk-label-container {text-align: center;}#sk-container-id-3 div.sk-container {/* jupyter's `normalize.less` sets `[hidden] { display: none; }` but bootstrap.min.css set `[hidden] { display: none !important; }` so we also need the `!important` here to be able to override the default hidden behavior on the sphinx rendered scikit-learn.org. See: https://github.com/scikit-learn/scikit-learn/issues/21755 */display: inline-block !important;position: relative;}#sk-container-id-3 div.sk-text-repr-fallback {display: none;}</style><div id=\"sk-container-id-3\" class=\"sk-top-container\"><div class=\"sk-text-repr-fallback\"><pre>GridSearchCV(estimator=RandomForestClassifier(random_state=123), n_jobs=-1,\n",
       "             param_grid={&#x27;max_depth&#x27;: [3, 6, 9, 12],\n",
       "                         &#x27;n_estimators&#x27;: [25, 50, 100, 150]},\n",
       "             return_train_score=True)</pre><b>In a Jupyter environment, please rerun this cell to show the HTML representation or trust the notebook. <br />On GitHub, the HTML representation is unable to render, please try loading this page with nbviewer.org.</b></div><div class=\"sk-container\" hidden><div class=\"sk-item sk-dashed-wrapped\"><div class=\"sk-label-container\"><div class=\"sk-label sk-toggleable\"><input class=\"sk-toggleable__control sk-hidden--visually\" id=\"sk-estimator-id-13\" type=\"checkbox\" ><label for=\"sk-estimator-id-13\" class=\"sk-toggleable__label sk-toggleable__label-arrow\">GridSearchCV</label><div class=\"sk-toggleable__content\"><pre>GridSearchCV(estimator=RandomForestClassifier(random_state=123), n_jobs=-1,\n",
       "             param_grid={&#x27;max_depth&#x27;: [3, 6, 9, 12],\n",
       "                         &#x27;n_estimators&#x27;: [25, 50, 100, 150]},\n",
       "             return_train_score=True)</pre></div></div></div><div class=\"sk-parallel\"><div class=\"sk-parallel-item\"><div class=\"sk-item\"><div class=\"sk-label-container\"><div class=\"sk-label sk-toggleable\"><input class=\"sk-toggleable__control sk-hidden--visually\" id=\"sk-estimator-id-14\" type=\"checkbox\" ><label for=\"sk-estimator-id-14\" class=\"sk-toggleable__label sk-toggleable__label-arrow\">estimator: RandomForestClassifier</label><div class=\"sk-toggleable__content\"><pre>RandomForestClassifier(random_state=123)</pre></div></div></div><div class=\"sk-serial\"><div class=\"sk-item\"><div class=\"sk-estimator sk-toggleable\"><input class=\"sk-toggleable__control sk-hidden--visually\" id=\"sk-estimator-id-15\" type=\"checkbox\" ><label for=\"sk-estimator-id-15\" class=\"sk-toggleable__label sk-toggleable__label-arrow\">RandomForestClassifier</label><div class=\"sk-toggleable__content\"><pre>RandomForestClassifier(random_state=123)</pre></div></div></div></div></div></div></div></div></div></div>"
      ],
      "text/plain": [
       "GridSearchCV(estimator=RandomForestClassifier(random_state=123), n_jobs=-1,\n",
       "             param_grid={'max_depth': [3, 6, 9, 12],\n",
       "                         'n_estimators': [25, 50, 100, 150]},\n",
       "             return_train_score=True)"
      ]
     },
     "execution_count": 36,
     "metadata": {},
     "output_type": "execute_result"
    }
   ],
   "source": [
    "##Hyperparameter tuning for a RandomForestClassifier:\n",
    "##Reference: range of hyperparameters adapted from GeekForGeeks article on hyperparameter tuning\n",
    "\n",
    "param_grid = {\n",
    "    'n_estimators': [25, 50, 100, 150],\n",
    "    'max_depth': [3,6, 9, 12],\n",
    "}\n",
    "\n",
    "gs = GridSearchCV(RandomForestClassifier(random_state = 123),\n",
    "                        param_grid = param_grid,\n",
    "                        n_jobs = -1,\n",
    "                       return_train_score = True)\n",
    "gs.fit(X_train_res, y_train_res)"
   ]
  },
  {
   "cell_type": "code",
   "execution_count": 39,
   "id": "84bc6d0d",
   "metadata": {},
   "outputs": [
    {
     "data": {
      "text/plain": [
       "{'max_depth': 12, 'n_estimators': 150}"
      ]
     },
     "execution_count": 39,
     "metadata": {},
     "output_type": "execute_result"
    }
   ],
   "source": [
    "gs.best_score_\n",
    "gs.best_params_"
   ]
  },
  {
   "cell_type": "code",
   "execution_count": 40,
   "id": "55ebdf43",
   "metadata": {},
   "outputs": [
    {
     "data": {
      "text/html": [
       "<style>#sk-container-id-4 {color: black;}#sk-container-id-4 pre{padding: 0;}#sk-container-id-4 div.sk-toggleable {background-color: white;}#sk-container-id-4 label.sk-toggleable__label {cursor: pointer;display: block;width: 100%;margin-bottom: 0;padding: 0.3em;box-sizing: border-box;text-align: center;}#sk-container-id-4 label.sk-toggleable__label-arrow:before {content: \"▸\";float: left;margin-right: 0.25em;color: #696969;}#sk-container-id-4 label.sk-toggleable__label-arrow:hover:before {color: black;}#sk-container-id-4 div.sk-estimator:hover label.sk-toggleable__label-arrow:before {color: black;}#sk-container-id-4 div.sk-toggleable__content {max-height: 0;max-width: 0;overflow: hidden;text-align: left;background-color: #f0f8ff;}#sk-container-id-4 div.sk-toggleable__content pre {margin: 0.2em;color: black;border-radius: 0.25em;background-color: #f0f8ff;}#sk-container-id-4 input.sk-toggleable__control:checked~div.sk-toggleable__content {max-height: 200px;max-width: 100%;overflow: auto;}#sk-container-id-4 input.sk-toggleable__control:checked~label.sk-toggleable__label-arrow:before {content: \"▾\";}#sk-container-id-4 div.sk-estimator input.sk-toggleable__control:checked~label.sk-toggleable__label {background-color: #d4ebff;}#sk-container-id-4 div.sk-label input.sk-toggleable__control:checked~label.sk-toggleable__label {background-color: #d4ebff;}#sk-container-id-4 input.sk-hidden--visually {border: 0;clip: rect(1px 1px 1px 1px);clip: rect(1px, 1px, 1px, 1px);height: 1px;margin: -1px;overflow: hidden;padding: 0;position: absolute;width: 1px;}#sk-container-id-4 div.sk-estimator {font-family: monospace;background-color: #f0f8ff;border: 1px dotted black;border-radius: 0.25em;box-sizing: border-box;margin-bottom: 0.5em;}#sk-container-id-4 div.sk-estimator:hover {background-color: #d4ebff;}#sk-container-id-4 div.sk-parallel-item::after {content: \"\";width: 100%;border-bottom: 1px solid gray;flex-grow: 1;}#sk-container-id-4 div.sk-label:hover label.sk-toggleable__label {background-color: #d4ebff;}#sk-container-id-4 div.sk-serial::before {content: \"\";position: absolute;border-left: 1px solid gray;box-sizing: border-box;top: 0;bottom: 0;left: 50%;z-index: 0;}#sk-container-id-4 div.sk-serial {display: flex;flex-direction: column;align-items: center;background-color: white;padding-right: 0.2em;padding-left: 0.2em;position: relative;}#sk-container-id-4 div.sk-item {position: relative;z-index: 1;}#sk-container-id-4 div.sk-parallel {display: flex;align-items: stretch;justify-content: center;background-color: white;position: relative;}#sk-container-id-4 div.sk-item::before, #sk-container-id-4 div.sk-parallel-item::before {content: \"\";position: absolute;border-left: 1px solid gray;box-sizing: border-box;top: 0;bottom: 0;left: 50%;z-index: -1;}#sk-container-id-4 div.sk-parallel-item {display: flex;flex-direction: column;z-index: 1;position: relative;background-color: white;}#sk-container-id-4 div.sk-parallel-item:first-child::after {align-self: flex-end;width: 50%;}#sk-container-id-4 div.sk-parallel-item:last-child::after {align-self: flex-start;width: 50%;}#sk-container-id-4 div.sk-parallel-item:only-child::after {width: 0;}#sk-container-id-4 div.sk-dashed-wrapped {border: 1px dashed gray;margin: 0 0.4em 0.5em 0.4em;box-sizing: border-box;padding-bottom: 0.4em;background-color: white;}#sk-container-id-4 div.sk-label label {font-family: monospace;font-weight: bold;display: inline-block;line-height: 1.2em;}#sk-container-id-4 div.sk-label-container {text-align: center;}#sk-container-id-4 div.sk-container {/* jupyter's `normalize.less` sets `[hidden] { display: none; }` but bootstrap.min.css set `[hidden] { display: none !important; }` so we also need the `!important` here to be able to override the default hidden behavior on the sphinx rendered scikit-learn.org. See: https://github.com/scikit-learn/scikit-learn/issues/21755 */display: inline-block !important;position: relative;}#sk-container-id-4 div.sk-text-repr-fallback {display: none;}</style><div id=\"sk-container-id-4\" class=\"sk-top-container\"><div class=\"sk-text-repr-fallback\"><pre>Pipeline(steps=[(&#x27;columntransformer&#x27;,\n",
       "                 ColumnTransformer(transformers=[(&#x27;standardscaler&#x27;,\n",
       "                                                  StandardScaler(),\n",
       "                                                  [&#x27;LIMIT_BAL&#x27;, &#x27;BILL_AMT1&#x27;,\n",
       "                                                   &#x27;BILL_AMT2&#x27;, &#x27;BILL_AMT3&#x27;,\n",
       "                                                   &#x27;BILL_AMT4&#x27;, &#x27;BILL_AMT5&#x27;,\n",
       "                                                   &#x27;BILL_AMT6&#x27;, &#x27;PAY_AMT1&#x27;,\n",
       "                                                   &#x27;PAY_AMT2&#x27;, &#x27;PAY_AMT3&#x27;,\n",
       "                                                   &#x27;PAY_AMT4&#x27;, &#x27;PAY_AMT5&#x27;,\n",
       "                                                   &#x27;PAY_AMT6&#x27;]),\n",
       "                                                 (&#x27;onehotencoder-1&#x27;,\n",
       "                                                  OneHotEncoder(handle_unknown=&#x27;ignore&#x27;),\n",
       "                                                  [&#x27;EDUCATION&#x27;, &#x27;MARRIAGE&#x27;,\n",
       "                                                   &#x27;PAY_0&#x27;, &#x27;PAY_2&#x27;, &#x27;PAY_3&#x27;,\n",
       "                                                   &#x27;PAY_4&#x27;, &#x27;PAY_5&#x27;, &#x27;PAY_6&#x27;]),\n",
       "                                                 (&#x27;onehotencoder-2&#x27;,\n",
       "                                                  OneHotEncoder(drop=&#x27;if_binary&#x27;),\n",
       "                                                  [&#x27;SEX&#x27;])])),\n",
       "                (&#x27;randomforestclassifier&#x27;,\n",
       "                 RandomForestClassifier(max_depth=12, n_estimators=150,\n",
       "                                        random_state=123))])</pre><b>In a Jupyter environment, please rerun this cell to show the HTML representation or trust the notebook. <br />On GitHub, the HTML representation is unable to render, please try loading this page with nbviewer.org.</b></div><div class=\"sk-container\" hidden><div class=\"sk-item sk-dashed-wrapped\"><div class=\"sk-label-container\"><div class=\"sk-label sk-toggleable\"><input class=\"sk-toggleable__control sk-hidden--visually\" id=\"sk-estimator-id-16\" type=\"checkbox\" ><label for=\"sk-estimator-id-16\" class=\"sk-toggleable__label sk-toggleable__label-arrow\">Pipeline</label><div class=\"sk-toggleable__content\"><pre>Pipeline(steps=[(&#x27;columntransformer&#x27;,\n",
       "                 ColumnTransformer(transformers=[(&#x27;standardscaler&#x27;,\n",
       "                                                  StandardScaler(),\n",
       "                                                  [&#x27;LIMIT_BAL&#x27;, &#x27;BILL_AMT1&#x27;,\n",
       "                                                   &#x27;BILL_AMT2&#x27;, &#x27;BILL_AMT3&#x27;,\n",
       "                                                   &#x27;BILL_AMT4&#x27;, &#x27;BILL_AMT5&#x27;,\n",
       "                                                   &#x27;BILL_AMT6&#x27;, &#x27;PAY_AMT1&#x27;,\n",
       "                                                   &#x27;PAY_AMT2&#x27;, &#x27;PAY_AMT3&#x27;,\n",
       "                                                   &#x27;PAY_AMT4&#x27;, &#x27;PAY_AMT5&#x27;,\n",
       "                                                   &#x27;PAY_AMT6&#x27;]),\n",
       "                                                 (&#x27;onehotencoder-1&#x27;,\n",
       "                                                  OneHotEncoder(handle_unknown=&#x27;ignore&#x27;),\n",
       "                                                  [&#x27;EDUCATION&#x27;, &#x27;MARRIAGE&#x27;,\n",
       "                                                   &#x27;PAY_0&#x27;, &#x27;PAY_2&#x27;, &#x27;PAY_3&#x27;,\n",
       "                                                   &#x27;PAY_4&#x27;, &#x27;PAY_5&#x27;, &#x27;PAY_6&#x27;]),\n",
       "                                                 (&#x27;onehotencoder-2&#x27;,\n",
       "                                                  OneHotEncoder(drop=&#x27;if_binary&#x27;),\n",
       "                                                  [&#x27;SEX&#x27;])])),\n",
       "                (&#x27;randomforestclassifier&#x27;,\n",
       "                 RandomForestClassifier(max_depth=12, n_estimators=150,\n",
       "                                        random_state=123))])</pre></div></div></div><div class=\"sk-serial\"><div class=\"sk-item sk-dashed-wrapped\"><div class=\"sk-label-container\"><div class=\"sk-label sk-toggleable\"><input class=\"sk-toggleable__control sk-hidden--visually\" id=\"sk-estimator-id-17\" type=\"checkbox\" ><label for=\"sk-estimator-id-17\" class=\"sk-toggleable__label sk-toggleable__label-arrow\">columntransformer: ColumnTransformer</label><div class=\"sk-toggleable__content\"><pre>ColumnTransformer(transformers=[(&#x27;standardscaler&#x27;, StandardScaler(),\n",
       "                                 [&#x27;LIMIT_BAL&#x27;, &#x27;BILL_AMT1&#x27;, &#x27;BILL_AMT2&#x27;,\n",
       "                                  &#x27;BILL_AMT3&#x27;, &#x27;BILL_AMT4&#x27;, &#x27;BILL_AMT5&#x27;,\n",
       "                                  &#x27;BILL_AMT6&#x27;, &#x27;PAY_AMT1&#x27;, &#x27;PAY_AMT2&#x27;,\n",
       "                                  &#x27;PAY_AMT3&#x27;, &#x27;PAY_AMT4&#x27;, &#x27;PAY_AMT5&#x27;,\n",
       "                                  &#x27;PAY_AMT6&#x27;]),\n",
       "                                (&#x27;onehotencoder-1&#x27;,\n",
       "                                 OneHotEncoder(handle_unknown=&#x27;ignore&#x27;),\n",
       "                                 [&#x27;EDUCATION&#x27;, &#x27;MARRIAGE&#x27;, &#x27;PAY_0&#x27;, &#x27;PAY_2&#x27;,\n",
       "                                  &#x27;PAY_3&#x27;, &#x27;PAY_4&#x27;, &#x27;PAY_5&#x27;, &#x27;PAY_6&#x27;]),\n",
       "                                (&#x27;onehotencoder-2&#x27;,\n",
       "                                 OneHotEncoder(drop=&#x27;if_binary&#x27;), [&#x27;SEX&#x27;])])</pre></div></div></div><div class=\"sk-parallel\"><div class=\"sk-parallel-item\"><div class=\"sk-item\"><div class=\"sk-label-container\"><div class=\"sk-label sk-toggleable\"><input class=\"sk-toggleable__control sk-hidden--visually\" id=\"sk-estimator-id-18\" type=\"checkbox\" ><label for=\"sk-estimator-id-18\" class=\"sk-toggleable__label sk-toggleable__label-arrow\">standardscaler</label><div class=\"sk-toggleable__content\"><pre>[&#x27;LIMIT_BAL&#x27;, &#x27;BILL_AMT1&#x27;, &#x27;BILL_AMT2&#x27;, &#x27;BILL_AMT3&#x27;, &#x27;BILL_AMT4&#x27;, &#x27;BILL_AMT5&#x27;, &#x27;BILL_AMT6&#x27;, &#x27;PAY_AMT1&#x27;, &#x27;PAY_AMT2&#x27;, &#x27;PAY_AMT3&#x27;, &#x27;PAY_AMT4&#x27;, &#x27;PAY_AMT5&#x27;, &#x27;PAY_AMT6&#x27;]</pre></div></div></div><div class=\"sk-serial\"><div class=\"sk-item\"><div class=\"sk-estimator sk-toggleable\"><input class=\"sk-toggleable__control sk-hidden--visually\" id=\"sk-estimator-id-19\" type=\"checkbox\" ><label for=\"sk-estimator-id-19\" class=\"sk-toggleable__label sk-toggleable__label-arrow\">StandardScaler</label><div class=\"sk-toggleable__content\"><pre>StandardScaler()</pre></div></div></div></div></div></div><div class=\"sk-parallel-item\"><div class=\"sk-item\"><div class=\"sk-label-container\"><div class=\"sk-label sk-toggleable\"><input class=\"sk-toggleable__control sk-hidden--visually\" id=\"sk-estimator-id-20\" type=\"checkbox\" ><label for=\"sk-estimator-id-20\" class=\"sk-toggleable__label sk-toggleable__label-arrow\">onehotencoder-1</label><div class=\"sk-toggleable__content\"><pre>[&#x27;EDUCATION&#x27;, &#x27;MARRIAGE&#x27;, &#x27;PAY_0&#x27;, &#x27;PAY_2&#x27;, &#x27;PAY_3&#x27;, &#x27;PAY_4&#x27;, &#x27;PAY_5&#x27;, &#x27;PAY_6&#x27;]</pre></div></div></div><div class=\"sk-serial\"><div class=\"sk-item\"><div class=\"sk-estimator sk-toggleable\"><input class=\"sk-toggleable__control sk-hidden--visually\" id=\"sk-estimator-id-21\" type=\"checkbox\" ><label for=\"sk-estimator-id-21\" class=\"sk-toggleable__label sk-toggleable__label-arrow\">OneHotEncoder</label><div class=\"sk-toggleable__content\"><pre>OneHotEncoder(handle_unknown=&#x27;ignore&#x27;)</pre></div></div></div></div></div></div><div class=\"sk-parallel-item\"><div class=\"sk-item\"><div class=\"sk-label-container\"><div class=\"sk-label sk-toggleable\"><input class=\"sk-toggleable__control sk-hidden--visually\" id=\"sk-estimator-id-22\" type=\"checkbox\" ><label for=\"sk-estimator-id-22\" class=\"sk-toggleable__label sk-toggleable__label-arrow\">onehotencoder-2</label><div class=\"sk-toggleable__content\"><pre>[&#x27;SEX&#x27;]</pre></div></div></div><div class=\"sk-serial\"><div class=\"sk-item\"><div class=\"sk-estimator sk-toggleable\"><input class=\"sk-toggleable__control sk-hidden--visually\" id=\"sk-estimator-id-23\" type=\"checkbox\" ><label for=\"sk-estimator-id-23\" class=\"sk-toggleable__label sk-toggleable__label-arrow\">OneHotEncoder</label><div class=\"sk-toggleable__content\"><pre>OneHotEncoder(drop=&#x27;if_binary&#x27;)</pre></div></div></div></div></div></div></div></div><div class=\"sk-item\"><div class=\"sk-estimator sk-toggleable\"><input class=\"sk-toggleable__control sk-hidden--visually\" id=\"sk-estimator-id-24\" type=\"checkbox\" ><label for=\"sk-estimator-id-24\" class=\"sk-toggleable__label sk-toggleable__label-arrow\">RandomForestClassifier</label><div class=\"sk-toggleable__content\"><pre>RandomForestClassifier(max_depth=12, n_estimators=150, random_state=123)</pre></div></div></div></div></div></div></div>"
      ],
      "text/plain": [
       "Pipeline(steps=[('columntransformer',\n",
       "                 ColumnTransformer(transformers=[('standardscaler',\n",
       "                                                  StandardScaler(),\n",
       "                                                  ['LIMIT_BAL', 'BILL_AMT1',\n",
       "                                                   'BILL_AMT2', 'BILL_AMT3',\n",
       "                                                   'BILL_AMT4', 'BILL_AMT5',\n",
       "                                                   'BILL_AMT6', 'PAY_AMT1',\n",
       "                                                   'PAY_AMT2', 'PAY_AMT3',\n",
       "                                                   'PAY_AMT4', 'PAY_AMT5',\n",
       "                                                   'PAY_AMT6']),\n",
       "                                                 ('onehotencoder-1',\n",
       "                                                  OneHotEncoder(handle_unknown='ignore'),\n",
       "                                                  ['EDUCATION', 'MARRIAGE',\n",
       "                                                   'PAY_0', 'PAY_2', 'PAY_3',\n",
       "                                                   'PAY_4', 'PAY_5', 'PAY_6']),\n",
       "                                                 ('onehotencoder-2',\n",
       "                                                  OneHotEncoder(drop='if_binary'),\n",
       "                                                  ['SEX'])])),\n",
       "                ('randomforestclassifier',\n",
       "                 RandomForestClassifier(max_depth=12, n_estimators=150,\n",
       "                                        random_state=123))])"
      ]
     },
     "execution_count": 40,
     "metadata": {},
     "output_type": "execute_result"
    }
   ],
   "source": [
    "pipe_retrained = make_pipeline(preprocessor, \n",
    "                               RandomForestClassifier(max_depth = 12, n_estimators = 150, random_state = 123))\n",
    "pipe_retrained.fit(X_train_res, y_train_res)\n"
   ]
  },
  {
   "cell_type": "code",
   "execution_count": 41,
   "id": "43b021c7",
   "metadata": {},
   "outputs": [
    {
     "data": {
      "text/plain": [
       "0.7826666666666666"
      ]
     },
     "execution_count": 41,
     "metadata": {},
     "output_type": "execute_result"
    }
   ],
   "source": [
    "pipe_retrained.score(X_test, y_test)"
   ]
  },
  {
   "cell_type": "code",
   "execution_count": 42,
   "id": "d44f47b0",
   "metadata": {},
   "outputs": [
    {
     "name": "stdout",
     "output_type": "stream",
     "text": [
      "              precision    recall  f1-score   support\n",
      "\n",
      " Non-default     0.8668    0.8519    0.8593      4673\n",
      "     Default     0.5082    0.5388    0.5230      1327\n",
      "\n",
      "    accuracy                         0.7827      6000\n",
      "   macro avg     0.6875    0.6954    0.6912      6000\n",
      "weighted avg     0.7874    0.7827    0.7849      6000\n",
      "\n"
     ]
    }
   ],
   "source": [
    "print(\n",
    "    classification_report(\n",
    "        y_test, pipe_retrained.predict(X_test), target_names = [\"Non-default\", \"Default\"], digits = 4\n",
    "    )\n",
    ")"
   ]
  },
  {
   "cell_type": "markdown",
   "id": "c85f0d21-9a1a-46ac-8bcd-4f13e33e0819",
   "metadata": {},
   "source": [
    "### G. CONCLUDING REMARKS:\n",
    "* Overall, in this project, I have used four different machine learning models (DummyClassifier, Logistic Regression, Decision Tree and Random Forest) to predict the default payment status of credit card users. \n",
    "    - Throughout the cross-validating process, I found the Random Forest model appears to perform the best. However, this model suffers from overfitting as we achieve a high training score.\n",
    "    - In hyperparameter tuning, I figured out our optimal hyperparameters and retrained our random forest model.\n",
    "    - Due to class imbalance, I conclude that it is not the best option to use accuracy to evaluate our model. I used precision and recall as metrics of assessment instead. Observing the classification report above, our precision and recall score were much lower.\n",
    "\n",
    "* Side experiment with SMOTE:\n",
    "    - The model selection process also chose the Random Forest model with different hyperparameters.\n",
    "    - While the SMOTE Resampling method improved recall score by 20%, we also sacrificed our precision score by 20%.\n",
    "    - The SMOTE resampling technique might cause some bias, as these default cases are synthetically created, rather than being collected in real-life.\n"
   ]
  },
  {
   "cell_type": "code",
   "execution_count": null,
   "id": "d31ec6bd-c372-4bc3-a80a-46909cee1871",
   "metadata": {},
   "outputs": [],
   "source": []
  }
 ],
 "metadata": {
  "kernelspec": {
   "display_name": "Python 3 (ipykernel)",
   "language": "python",
   "name": "python3"
  },
  "language_info": {
   "codemirror_mode": {
    "name": "ipython",
    "version": 3
   },
   "file_extension": ".py",
   "mimetype": "text/x-python",
   "name": "python",
   "nbconvert_exporter": "python",
   "pygments_lexer": "ipython3",
   "version": "3.11.5"
  }
 },
 "nbformat": 4,
 "nbformat_minor": 5
}
